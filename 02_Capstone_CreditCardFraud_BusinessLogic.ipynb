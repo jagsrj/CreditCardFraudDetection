{
 "cells": [
  {
   "cell_type": "code",
   "execution_count": 1,
   "metadata": {},
   "outputs": [
    {
     "name": "stdout",
     "output_type": "stream",
     "text": [
      "Requirement already satisfied: kafka-python in c:\\programdata\\anaconda3\\lib\\site-packages (2.0.2)\n",
      "Note: you may need to restart the kernel to use updated packages.\n"
     ]
    }
   ],
   "source": [
    "pip install kafka-python"
   ]
  },
  {
   "cell_type": "code",
   "execution_count": 2,
   "metadata": {},
   "outputs": [
    {
     "name": "stdout",
     "output_type": "stream",
     "text": [
      "Requirement already satisfied: pymongo in c:\\programdata\\anaconda3\\lib\\site-packages (4.3.3)\n",
      "Requirement already satisfied: dnspython<3.0.0,>=1.16.0 in c:\\programdata\\anaconda3\\lib\\site-packages (from pymongo) (2.2.1)\n",
      "Note: you may need to restart the kernel to use updated packages.\n"
     ]
    }
   ],
   "source": [
    "pip install pymongo\n"
   ]
  },
  {
   "cell_type": "code",
   "execution_count": 4,
   "metadata": {},
   "outputs": [],
   "source": [
    "import json\n",
    "from pymongo import MongoClient\n",
    "import math\n",
    "import pandas as pd\n",
    "import numpy as np\n",
    "import datetime\n",
    "\n",
    "#client = MongoClient();"
   ]
  },
  {
   "cell_type": "code",
   "execution_count": 5,
   "metadata": {},
   "outputs": [],
   "source": [
    "speed_threshold = 0.25  # km/sec - Average speed of flight 900 km/hr"
   ]
  },
  {
   "cell_type": "code",
   "execution_count": 6,
   "metadata": {},
   "outputs": [],
   "source": [
    "class GEO_Map():\n",
    "\t\"\"\"\n",
    "\tIt hold the  map for zip code and its latitute and longitute\n",
    "\t\"\"\"\n",
    "\t__instance = None\n",
    "\n",
    "\t@staticmethod\n",
    "\tdef get_instance():\n",
    "\t\t\"\"\" Static access method. \"\"\"\n",
    "\t\tif GEO_Map.__instance == None:\n",
    "\t\t\tGEO_Map()\n",
    "\t\treturn GEO_Map.__instance\n",
    "\n",
    "\tdef __init__(self):\n",
    "\t\t\"\"\" Virtually private constructor. \"\"\"\n",
    "\t\tif GEO_Map.__instance != None:\n",
    "\t\t\traise Exception(\"This class is a singleton!\")\n",
    "\t\telse:\n",
    "\t\t\tGEO_Map.__instance = self\n",
    "\t\t\tself.map = pd.read_csv(\"uszipsv.csv\", header=None, names=['A',\"B\",'C','D','E'])\n",
    "\t\t\tself.map['A'] =  self.map['A'].astype(str)\n",
    "\n",
    "\tdef get_lat(self, pos_id):\n",
    "\t\t#print(\"printing value from class \", self.map[self.map.A == pos_id ].B)        \n",
    "\t\treturn self.map[self.map.A == pos_id ].B\n",
    "\n",
    "\tdef get_long(self, pos_id):\n",
    "\t\treturn self.map[self.map.A == pos_id ].C\n",
    "\n",
    "\tdef distance(self, lat1, long1, lat2, long2):\n",
    "\t\ttheta = long1 - long2\n",
    "\t\tdist = math.sin(self.deg2rad(lat1)) * math.sin(self.deg2rad(lat2)) + math.cos(self.deg2rad(lat1)) * math.cos(self.deg2rad(lat2)) * math.cos(self.deg2rad(theta))\n",
    "\t\tdist = math.acos(dist)\n",
    "\t\tdist = self.rad2deg(dist)\n",
    "\t\tdist = dist * 60 * 1.1515 * 1.609344\n",
    "\t\treturn dist\n",
    "\n",
    "\tdef rad2deg(self, rad):\n",
    "\t\treturn rad * 180.0 / math.pi\n",
    "\n",
    "\tdef deg2rad(self, deg):\n",
    "\t\treturn deg * math.pi / 180.0"
   ]
  },
  {
   "cell_type": "code",
   "execution_count": 7,
   "metadata": {},
   "outputs": [],
   "source": [
    "# Function to check rules for UCL and Credit Score\n",
    "def verify_ucl_data(card_id, amount):\n",
    "    try:\n",
    "        client = MongoClient();\n",
    "        # Database Name\n",
    "        db = client[\"CREDIT_CARD_DB\"]\n",
    "        # Collection Name\n",
    "        lookupTable = db[\"lookup_table\"]\n",
    "        lookupValue = lookupTable.find_one({'card_id': card_id}) #378303738095292\n",
    "        if amount < float(lookupValue[\"ucl\"]) and float(lookupValue[\"ucl\"]) > 200:\n",
    "            return True\n",
    "        else:\n",
    "            return False\n",
    "    except Exception as e:\n",
    "        raise Exception(e)"
   ]
  },
  {
   "cell_type": "code",
   "execution_count": 8,
   "metadata": {},
   "outputs": [],
   "source": [
    "\"\"\"\n",
    "Function to verify the following zipcode rules\n",
    "ZIP code distance\n",
    ":param card_id: (Long) Card id of the card customer\n",
    ":param postcode: (Integer) Post code of the card transaction\n",
    ":param transaction_dt: (String) Timestamp\n",
    ":return: (Boolean)\n",
    "\"\"\"\n",
    "def verify_postcode_data(card_id, postcode, transaction_dt):\n",
    "\n",
    "    try:\n",
    "        \n",
    "        client = MongoClient();\n",
    "        # Database Name\n",
    "        db = client[\"CREDIT_CARD_DB\"]\n",
    "        # Collection Name\n",
    "        lookupTable = db[\"lookup_table\"]\n",
    "        lookupValue = lookupTable.find_one({'card_id': card_id}) #378303738095292\n",
    "        geo_map = GEO_Map.get_instance()\n",
    "        last_postcode = lookupValue[\"postcode\"]\n",
    "        last_transaction_dt = lookupValue[\"transaction_dt2\"]\n",
    "        current_lat = geo_map.get_lat(str(postcode))\n",
    "        for data in current_lat:\n",
    "            current_lat1 = data\n",
    "        current_lon = geo_map.get_long(str(postcode))\n",
    "        for data in current_lon:\n",
    "            current_lon1 = data\n",
    "        previous_lat = geo_map.get_lat(str(last_postcode))\n",
    "        for data in previous_lat:\n",
    "            previous_lat1 = data\n",
    "        previous_lon = geo_map.get_long(str(last_postcode))\n",
    "        for data in previous_lon:\n",
    "            previous_lon1 = data\n",
    "        \n",
    "        dist = geo_map.distance(lat1=current_lat1, long1=current_lon1, lat2=previous_lat1, long2=previous_lon1)\n",
    "        speed = calculate_speed(dist, transaction_dt, last_transaction_dt)\n",
    "\n",
    "        if speed < speed_threshold:\n",
    "            return True\n",
    "        else:\n",
    "            return False\n",
    "\n",
    "    except Exception as e:\n",
    "        raise Exception(e)\n"
   ]
  },
  {
   "cell_type": "code",
   "execution_count": 9,
   "metadata": {},
   "outputs": [],
   "source": [
    "#A function to calculate the speed from distance and transaction timestamp differentials\n",
    "# transaction_dt1 - \n",
    "# transaction_dt2 - \n",
    "def calculate_speed(dist, transaction_dt1, transaction_dt2):\n",
    "    transaction_dt1 = datetime.datetime.strptime(transaction_dt1, '%d-%m-%Y %H:%M:%S')\n",
    "    transaction_dt2 = datetime.datetime.strptime(transaction_dt2, '%Y-%m-%d %H:%M:%S')\n",
    "    elapsed_time = transaction_dt1 - transaction_dt2\n",
    "    elapsed_time = elapsed_time.total_seconds()\n",
    "    try:\n",
    "        return dist / elapsed_time\n",
    "    except ZeroDivisionError:\n",
    "        return 299792.458  # (Speed of light)"
   ]
  },
  {
   "cell_type": "code",
   "execution_count": 10,
   "metadata": {},
   "outputs": [],
   "source": [
    "#A function to update genuine and fraud transactions into card_transactions collections\n",
    "\n",
    "def updateCardTransactions(kafkajsonObj, Status):\n",
    "    client = MongoClient();\n",
    "    # Database Name\n",
    "    mydb = client[\"CREDIT_CARD_DB\"]\n",
    "    mycol = mydb[\"card_transactions\"]\n",
    "    mydict = {\"card_id\" : kafkajsonObj[\"card_id\"], \"member_id\" : kafkajsonObj[\"member_id\"], \"amount\" : kafkajsonObj[\"amount\"], \"postcode\" : kafkajsonObj[\"postcode\"], \"pos_id\" : kafkajsonObj[\"pos_id\"], \"transaction_dt\" : kafkajsonObj[\"transaction_dt\"], \"status\" : Status}    \n",
    "    mycol.insert_one(mydict)\n",
    "    "
   ]
  },
  {
   "cell_type": "code",
   "execution_count": 15,
   "metadata": {},
   "outputs": [],
   "source": [
    "# A function to update genuine transactions into lookup_table collections\n",
    "def updateLookUpTransactions(kafkajsonObj):\n",
    "    client = MongoClient();\n",
    "    # Database Name\n",
    "    mydb = client[\"CREDIT_CARD_DB\"]\n",
    "    mycol = mydb[\"lookup_table\"]\n",
    "    lookupUpdQryOld = {\"card_id\" : kafkajsonObj[\"card_id\"]}    \n",
    "    lookupUpdQryNew = { \"$set\": {\"card_id\" : kafkajsonObj[\"card_id\"], \"member_id\" : kafkajsonObj[\"member_id\"], \"amount\" : kafkajsonObj[\"amount\"], \"postcode\" : kafkajsonObj[\"postcode\"], \"pos_id\" : kafkajsonObj[\"pos_id\"], \"transaction_dt\" : kafkajsonObj[\"transaction_dt\"], \"status\" : \"GENUINE\"}    }\n",
    "    mycol.update_one(lookupUpdQryOld, lookupUpdQryNew)"
   ]
  },
  {
   "cell_type": "code",
   "execution_count": 13,
   "metadata": {},
   "outputs": [],
   "source": [
    "# wrapper function to validate all 3 rules\n",
    "def validateFraud(amount, card_id, postcode, txndate):\n",
    "    status_ucl_crdScore = verify_ucl_data(card_id, amount)\n",
    "    status_distance = verify_postcode_data(card_id, postcode, txndate)\n",
    "    if status_ucl_crdScore==True and status_distance==True :\n",
    "        #print(\"3 Rules check passed!!!!!! ; congratulations! \")\n",
    "        return True\n",
    "    else : \n",
    "        return False"
   ]
  },
  {
   "cell_type": "code",
   "execution_count": null,
   "metadata": {},
   "outputs": [],
   "source": [
    "from kafka import KafkaConsumer\n",
    "import sys\n",
    "\n",
    "### Setting up the Python consumer\n",
    "bootstrap_servers = ['18.211.252.152:9092']\n",
    "topicName = 'transactions-topic-verified'\n",
    "consumer = KafkaConsumer (topicName, group_id = 'my_group_id5',bootstrap_servers = bootstrap_servers,\n",
    "auto_offset_reset = 'earliest')   ## You can also set it as latest\n",
    "i=0\n",
    "### Reading the message from consumer\n",
    "try:\n",
    "    for message in consumer:\n",
    "        kafkajsonObj = json.loads(message.value)\n",
    "        #print(\"kafkajsonObj is \", kafkajsonObj)\n",
    "        #break\n",
    "        status = validateFraud(kafkajsonObj[\"amount\"], kafkajsonObj[\"card_id\"],kafkajsonObj[\"postcode\"], kafkajsonObj[\"transaction_dt\"])\n",
    "        updateCardTransactions(kafkajsonObj, status)\n",
    "        if (status==True):            \n",
    "            updateLookUpTransactions(kafkajsonObj)\n",
    "            #print(\"encountered first fraud record...breaking from loop\")\n",
    "            #break\n",
    "        \n",
    "except KeyboardInterrupt:\n",
    "    sys.exit()\n",
    "    \n",
    "import datetime\n",
    "now = datetime.datetime.now()\n",
    "print(\"Current date and time: \")\n",
    "print(str(now))\n"
   ]
  }
 ],
 "metadata": {
  "kernelspec": {
   "display_name": "Python 3",
   "language": "python",
   "name": "python3"
  },
  "language_info": {
   "codemirror_mode": {
    "name": "ipython",
    "version": 3
   },
   "file_extension": ".py",
   "mimetype": "text/x-python",
   "name": "python",
   "nbconvert_exporter": "python",
   "pygments_lexer": "ipython3",
   "version": "3.8.8"
  }
 },
 "nbformat": 4,
 "nbformat_minor": 4
}
