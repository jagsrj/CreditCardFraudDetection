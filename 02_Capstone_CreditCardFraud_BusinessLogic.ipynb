{
 "cells": [
  {
   "cell_type": "code",
   "execution_count": 1,
   "metadata": {},
   "outputs": [
    {
     "name": "stdout",
     "output_type": "stream",
     "text": [
      "Requirement already satisfied: kafka-python in c:\\programdata\\anaconda3\\lib\\site-packages (2.0.2)\n",
      "Note: you may need to restart the kernel to use updated packages.\n"
     ]
    }
   ],
   "source": [
    "pip install kafka-python"
   ]
  },
  {
   "cell_type": "code",
   "execution_count": 2,
   "metadata": {},
   "outputs": [
    {
     "name": "stdout",
     "output_type": "stream",
     "text": [
      "Requirement already satisfied: pymongo in c:\\programdata\\anaconda3\\lib\\site-packages (4.3.3)\n",
      "Requirement already satisfied: dnspython<3.0.0,>=1.16.0 in c:\\programdata\\anaconda3\\lib\\site-packages (from pymongo) (2.2.1)\n",
      "Note: you may need to restart the kernel to use updated packages.\n"
     ]
    }
   ],
   "source": [
    "pip install pymongo\n"
   ]
  },
  {
   "cell_type": "code",
   "execution_count": 3,
   "metadata": {},
   "outputs": [],
   "source": [
    "import json\n",
    "from pymongo import MongoClient\n",
    "\n",
    "client = MongoClient();"
   ]
  },
  {
   "cell_type": "code",
   "execution_count": 49,
   "metadata": {},
   "outputs": [],
   "source": [
    "def verify_ucl_data(card_id, amount):\n",
    "    print(\"into verify_ucl_data function\")  \n",
    "    print(\"card id from kafka is \", card_id)\n",
    "    print(\"amount from kafka is \", amount)\n",
    "    try:\n",
    "        client = MongoClient();\n",
    "        # Database Name\n",
    "        db = client[\"CREDIT_CARD_DB\"]\n",
    "        \n",
    "        # Collection Name\n",
    "        lookupTable = db[\"lookup_table\"]\n",
    "        \n",
    "        lookupValue = lookupTable.find({'card_id': 378303738095292}) #378303738095292\n",
    "        #lookupValue = lookupTable.find({'card_id': card_id}) #378303738095292\n",
    "        #lookupValue = col.find({'member_id': 1314074991813})\n",
    "        print(\"lookupvalue is \", lookupValue)\n",
    "        print(\"lookupvalue type is \", type(lookupValue))\n",
    "        \n",
    "        if lookupValue is None : \n",
    "            return False\n",
    "        \n",
    "        for data in lookupValue:\n",
    "            #print(\"data is \", data)\n",
    "            print(\"dataucl is \", data[\"ucl\"])\n",
    "            print(\"credit score is \", data[\"score\"])\n",
    "            \n",
    "        if data is None : \n",
    "            return False\n",
    "\n",
    "        \n",
    "        if amount < float(data[\"ucl\"]) and float(data[\"ucl\"]) > 200:\n",
    "            return True\n",
    "        else:\n",
    "            return False\n",
    "    except Exception as e:\n",
    "        raise Exception(e)"
   ]
  },
  {
   "cell_type": "code",
   "execution_count": 48,
   "metadata": {},
   "outputs": [],
   "source": [
    "def validateFraud(amount, card_id):\n",
    "    print(\"into validateFraud function - part1\")\n",
    "    status_ucl_crdScore = verify_ucl_data(card_id, amount)\n",
    "    print(\"Status of UCL and CreditScore is \", status_ucl_crdScore)\n",
    "\n",
    "    return status_ucl"
   ]
  },
  {
   "cell_type": "code",
   "execution_count": 50,
   "metadata": {},
   "outputs": [
    {
     "name": "stdout",
     "output_type": "stream",
     "text": [
      "b'{\"card_id\":348702330256514,\"member_id\":37495066290,\"amount\":4380912,\"postcode\":96774,\"pos_id\":248063406800722,\"transaction_dt\":\"01-03-2018 08:24:29\"}'\n",
      "into validateFraud function - part1\n",
      "into verify_ucl_data function\n",
      "card id from kafka is  348702330256514\n",
      "amount from kafka is  4380912\n",
      "lookupvalue is  <pymongo.cursor.Cursor object at 0x000001D4ECAF5820>\n",
      "lookupvalue type is  <class 'pymongo.cursor.Cursor'>\n",
      "dataucl is  12794239.889645452\n",
      "credit score is  225\n",
      "Status of UCL is  True\n",
      "status is  True\n"
     ]
    },
    {
     "name": "stderr",
     "output_type": "stream",
     "text": [
      "WARNING:kafka.coordinator:Heartbeat poll expired, leaving group\n"
     ]
    }
   ],
   "source": [
    "from kafka import KafkaConsumer\n",
    "import sys\n",
    "\n",
    "### Setting up the Python consumer\n",
    "bootstrap_servers = ['18.211.252.152:9092']\n",
    "topicName = 'transactions-topic-verified'\n",
    "consumer = KafkaConsumer (topicName, group_id = 'my_group_id6',bootstrap_servers = bootstrap_servers,\n",
    "auto_offset_reset = 'earliest')   ## You can also set it as latest\n",
    "\n",
    "### Reading the message from consumer\n",
    "try:\n",
    "    for message in consumer:\n",
    "        #print (\"%s:%d:%d: key=%s value=%s\" % (message.topic, message.partition,message.offset, message.key,message.value))\n",
    "        print (\"%s\" % (message.value))\n",
    "        kafkajsonObj = json.loads(message.value)\n",
    "        status = validateFraud(kafkajsonObj[\"amount\"], kafkajsonObj[\"card_id\"])\n",
    "        print(\"status is \", status)\n",
    "        break\n",
    "except KeyboardInterrupt:\n",
    "    sys.exit()"
   ]
  }
 ],
 "metadata": {
  "kernelspec": {
   "display_name": "Python 3",
   "language": "python",
   "name": "python3"
  },
  "language_info": {
   "codemirror_mode": {
    "name": "ipython",
    "version": 3
   },
   "file_extension": ".py",
   "mimetype": "text/x-python",
   "name": "python",
   "nbconvert_exporter": "python",
   "pygments_lexer": "ipython3",
   "version": "3.8.8"
  }
 },
 "nbformat": 4,
 "nbformat_minor": 4
}
