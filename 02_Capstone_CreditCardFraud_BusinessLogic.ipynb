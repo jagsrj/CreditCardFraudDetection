{
 "cells": [
  {
   "cell_type": "code",
   "execution_count": 1,
   "metadata": {},
   "outputs": [
    {
     "name": "stdout",
     "output_type": "stream",
     "text": [
      "Requirement already satisfied: kafka-python in c:\\programdata\\anaconda3\\lib\\site-packages (2.0.2)\n",
      "Note: you may need to restart the kernel to use updated packages.\n"
     ]
    }
   ],
   "source": [
    "pip install kafka-python"
   ]
  },
  {
   "cell_type": "code",
   "execution_count": 2,
   "metadata": {},
   "outputs": [
    {
     "name": "stdout",
     "output_type": "stream",
     "text": [
      "Requirement already satisfied: pymongo in c:\\programdata\\anaconda3\\lib\\site-packages (4.3.3)\n",
      "Requirement already satisfied: dnspython<3.0.0,>=1.16.0 in c:\\programdata\\anaconda3\\lib\\site-packages (from pymongo) (2.2.1)\n",
      "Note: you may need to restart the kernel to use updated packages.\n"
     ]
    }
   ],
   "source": [
    "pip install pymongo\n"
   ]
  },
  {
   "cell_type": "code",
   "execution_count": 50,
   "metadata": {},
   "outputs": [],
   "source": [
    "import json\n",
    "from pymongo import MongoClient\n",
    "import math\n",
    "import pandas as pd\n",
    "import numpy as np\n",
    "import datetime\n",
    "\n",
    "#client = MongoClient();"
   ]
  },
  {
   "cell_type": "code",
   "execution_count": 58,
   "metadata": {},
   "outputs": [],
   "source": [
    "speed_threshold = 0.25  # km/sec - Average speed of flight 900 km/hr"
   ]
  },
  {
   "cell_type": "code",
   "execution_count": 19,
   "metadata": {},
   "outputs": [],
   "source": [
    "class GEO_Map():\n",
    "\t\"\"\"\n",
    "\tIt hold the  map for zip code and its latitute and longitute\n",
    "\t\"\"\"\n",
    "\t__instance = None\n",
    "\n",
    "\t@staticmethod\n",
    "\tdef get_instance():\n",
    "\t\t\"\"\" Static access method. \"\"\"\n",
    "\t\tif GEO_Map.__instance == None:\n",
    "\t\t\tGEO_Map()\n",
    "\t\treturn GEO_Map.__instance\n",
    "\n",
    "\tdef __init__(self):\n",
    "\t\t\"\"\" Virtually private constructor. \"\"\"\n",
    "\t\tif GEO_Map.__instance != None:\n",
    "\t\t\traise Exception(\"This class is a singleton!\")\n",
    "\t\telse:\n",
    "\t\t\tGEO_Map.__instance = self\n",
    "\t\t\tself.map = pd.read_csv(\"uszipsv.csv\", header=None, names=['A',\"B\",'C','D','E'])\n",
    "\t\t\tself.map['A'] =  self.map['A'].astype(str)\n",
    "\n",
    "\tdef get_lat(self, pos_id):\n",
    "\t\tprint(\"printing value from class \", self.map[self.map.A == pos_id ].B)        \n",
    "\t\treturn self.map[self.map.A == pos_id ].B\n",
    "\n",
    "\tdef get_long(self, pos_id):\n",
    "\t\treturn self.map[self.map.A == pos_id ].C\n",
    "\n",
    "\tdef distance(self, lat1, long1, lat2, long2):\n",
    "\t\ttheta = long1 - long2\n",
    "\t\tdist = math.sin(self.deg2rad(lat1)) * math.sin(self.deg2rad(lat2)) + math.cos(self.deg2rad(lat1)) * math.cos(self.deg2rad(lat2)) * math.cos(self.deg2rad(theta))\n",
    "\t\tdist = math.acos(dist)\n",
    "\t\tdist = self.rad2deg(dist)\n",
    "\t\tdist = dist * 60 * 1.1515 * 1.609344\n",
    "\t\treturn dist\n",
    "\n",
    "\tdef rad2deg(self, rad):\n",
    "\t\treturn rad * 180.0 / math.pi\n",
    "\n",
    "\tdef deg2rad(self, deg):\n",
    "\t\treturn deg * math.pi / 180.0"
   ]
  },
  {
   "cell_type": "code",
   "execution_count": 8,
   "metadata": {},
   "outputs": [],
   "source": [
    "# Function to check rules for UCL and Credit Score\n",
    "def verify_ucl_data(card_id, amount):\n",
    "    print(\"into verify_ucl_data function\")  \n",
    "    print(\"card id from kafka is \", card_id)\n",
    "    print(\"amount from kafka is \", amount)\n",
    "    try:\n",
    "        client = MongoClient();\n",
    "        # Database Name\n",
    "        db = client[\"CREDIT_CARD_DB\"]\n",
    "        \n",
    "        # Collection Name\n",
    "        lookupTable = db[\"lookup_table\"]\n",
    "        \n",
    "        lookupValue = lookupTable.find({'card_id': 378303738095292}) #378303738095292\n",
    "        #lookupValue = lookupTable.find({'card_id': card_id}) #378303738095292\n",
    "        #lookupValue = col.find({'member_id': 1314074991813})\n",
    "        print(\"lookupvalue is \", lookupValue)\n",
    "        print(\"lookupvalue type is \", type(lookupValue))\n",
    "        \n",
    "        if lookupValue is None : \n",
    "            return False\n",
    "        \n",
    "        for data in lookupValue:\n",
    "            #print(\"data is \", data)\n",
    "            print(\"dataucl is \", data[\"ucl\"])\n",
    "            print(\"credit score is \", data[\"score\"])\n",
    "            \n",
    "        if data is None : \n",
    "            return False\n",
    "\n",
    "        \n",
    "        if amount < float(data[\"ucl\"]) and float(data[\"ucl\"]) > 200:\n",
    "            return True\n",
    "        else:\n",
    "            return False\n",
    "    except Exception as e:\n",
    "        raise Exception(e)"
   ]
  },
  {
   "cell_type": "code",
   "execution_count": 48,
   "metadata": {},
   "outputs": [],
   "source": [
    "\"\"\"\n",
    "Function to verify the following zipcode rules\n",
    "ZIP code distance\n",
    ":param card_id: (Long) Card id of the card customer\n",
    ":param postcode: (Integer) Post code of the card transaction\n",
    ":param transaction_dt: (String) Timestamp\n",
    ":return: (Boolean)\n",
    "\"\"\"\n",
    "def verify_postcode_data(card_id, postcode, transaction_dt):\n",
    "\n",
    "    try:\n",
    "        \n",
    "        client = MongoClient();\n",
    "        # Database Name\n",
    "        db = client[\"CREDIT_CARD_DB\"]\n",
    "        # Collection Name\n",
    "        lookupTable = db[\"lookup_table\"]\n",
    "        \n",
    "        lookupValue = lookupTable.find_one({'card_id': 378303738095292}) #378303738095292\n",
    "        print(\"lookupValue\", lookupValue)\n",
    "        geo_map = GEO_Map.get_instance()\n",
    "        \n",
    "        #card_row = hbasedao.get_data(key=str(card_id), table=lookup_table)\n",
    "        #last_postcode = (card_row[b'card_data:postcode']).decode(\"utf-8\")\n",
    "        #last_transaction_dt = (card_row[b'card_data:transaction_dt']).decode(\"utf-8\")\n",
    "        \n",
    "        last_postcode = lookupValue[\"postcode\"]\n",
    "        last_transaction_dt = lookupValue[\"transaction_dt2\"]\n",
    "        print(\"last_postcode\", last_postcode)\n",
    "        print(\"last_transaction_dt\", last_transaction_dt)\n",
    "\n",
    "        current_lat = geo_map.get_lat(str(postcode))\n",
    "        for data in current_lat:\n",
    "            print(\"current_lat data is >>>>>>>>>>>>>>>>>>>>\", data)\n",
    "            current_lat1 = data\n",
    "        current_lon = geo_map.get_long(str(postcode))\n",
    "        for data in current_lon:\n",
    "            print(\"current_lon data is >>>>>>>>>>>>>>>>>>>>\", data)\n",
    "            current_lon1 = data\n",
    "        previous_lat = geo_map.get_lat(str(last_postcode))\n",
    "        for data in previous_lat:\n",
    "            print(\"previous_lat data is >>>>>>>>>>>>>>>>>>>>\", data)\n",
    "            previous_lat1 = data\n",
    "        previous_lon = geo_map.get_long(str(last_postcode))\n",
    "        for data in previous_lon:\n",
    "            print(\"previous_lon data is >>>>>>>>>>>>>>>>>>>>\", data)\n",
    "            previous_lon1 = data\n",
    "        \n",
    "        #for data in current_lat:\n",
    "            #print(\"data is>>>>>>>>>>> \", data)\n",
    "            #print(\"dataucl is \", data[\"ucl\"])\n",
    "            #print(\"credit score is \", data[\"score\"])\n",
    "        \n",
    "        print(\"***************************************************************\")\n",
    "        print(\"1. current_lat\", current_lat1)\n",
    "        print(\"2. current_lon\", current_lon1)\n",
    "        print(\"3. previous_lat\", previous_lat1)\n",
    "        print(\"4. previous_lon\", previous_lon1)\n",
    "        print(\"***************************************************************\")\n",
    "        \n",
    "        \n",
    "        dist = geo_map.distance(lat1=current_lat1, long1=current_lon1, lat2=previous_lat1, long2=previous_lon1)\n",
    "        #print(\"distance is ************************************************* \", dist)\n",
    "        #dist = distance2(lat1=current_lat, long1=current_lon, lat2=previous_lat, long2=previous_lon)\n",
    "\n",
    "        speed = calculate_speed(dist, transaction_dt, last_transaction_dt)\n",
    "        print(\"speed is ****************************************************\", speed)\n",
    "\n",
    "        if speed < speed_threshold:\n",
    "            return True\n",
    "        else:\n",
    "            return False\n",
    "\n",
    "    except Exception as e:\n",
    "        raise Exception(e)\n",
    "\n"
   ]
  },
  {
   "cell_type": "code",
   "execution_count": 61,
   "metadata": {},
   "outputs": [
    {
     "name": "stdout",
     "output_type": "stream",
     "text": [
      "into validateFraud function - part1\n",
      "into verify_ucl_data function\n",
      "card id from kafka is  348702330256514\n",
      "amount from kafka is  4380912\n",
      "lookupvalue is  <pymongo.cursor.Cursor object at 0x000002DCEA652400>\n",
      "lookupvalue type is  <class 'pymongo.cursor.Cursor'>\n",
      "dataucl is  12794239.889645452\n",
      "credit score is  225\n",
      "Status of UCL and CreditScore is  True\n",
      "lookupValue {'_id': ObjectId('6379a2b6dbd25642124fcf1c'), '': 2, 'card_id': 378303738095292, 'member_id': 1314074991813, 'postcode': 41778, 'transaction_dt2': '2018-06-01 14:31:05', 'ucl': 12794239.889645452, 'score': 225}\n",
      "last_postcode 41778\n",
      "last_transaction_dt 2018-06-01 14:31:05\n",
      "printing value from class  16658    19.9529\n",
      "Name: B, dtype: float64\n",
      "current_lat data is >>>>>>>>>>>>>>>>>>>> 19.9529\n",
      "current_lon data is >>>>>>>>>>>>>>>>>>>> -155.3341\n",
      "printing value from class  7838    37.267\n",
      "Name: B, dtype: float64\n",
      "previous_lat data is >>>>>>>>>>>>>>>>>>>> 37.267\n",
      "previous_lon data is >>>>>>>>>>>>>>>>>>>> -83.2991\n",
      "***************************************************************\n",
      "1. current_lat 19.9529\n",
      "2. current_lon -155.3341\n",
      "3. previous_lat 37.267\n",
      "4. previous_lon -83.2991\n",
      "***************************************************************\n",
      "transaction_dt1>>>>>>>>>>> 01-03-2018 08:24:29\n",
      "transaction_dt2>>>>>>>>>>> 2018-06-01 14:31:05\n",
      "speed is **************************************************** -0.0008936730159711448\n",
      "3 Rules check passed!!!!!! ; congratulations! \n",
      "Final status is  True\n"
     ]
    }
   ],
   "source": [
    "#Tester Program\n",
    "status = validateFraud(4380912, 348702330256514,96774, \"01-03-2018 08:24:29\")\n",
    "print(\"Final status is \", status)"
   ]
  },
  {
   "cell_type": "code",
   "execution_count": 56,
   "metadata": {},
   "outputs": [],
   "source": [
    "\"\"\"\n",
    "A function to calculate the speed from distance and transaction timestamp differentials\n",
    ":param dist: (Float) Distance between postcodes\n",
    ":param transaction_dt1: Transaction timestamp from the table\n",
    ":param transaction_dt2: Transaction timestamp from the POS\n",
    ":return: (Float) Speed\n",
    "\"\"\"\n",
    "def calculate_speed(dist, transaction_dt1, transaction_dt2):\n",
    "\n",
    "    print(\"transaction_dt1>>>>>>>>>>>\",transaction_dt1)\n",
    "    print(\"transaction_dt2>>>>>>>>>>>\",transaction_dt2)\n",
    "    #transaction_dt1>>>>>>>>>>> 01-03-2018 08:24:29\n",
    "    #transaction_dt2>>>>>>>>>>> 2018-06-01 14:31:05\n",
    "    transaction_dt1 = datetime.datetime.strptime(transaction_dt1, '%d-%m-%Y %H:%M:%S')\n",
    "    transaction_dt2 = datetime.datetime.strptime(transaction_dt2, '%Y-%m-%d %H:%M:%S')\n",
    "\n",
    "    elapsed_time = transaction_dt1 - transaction_dt2\n",
    "    elapsed_time = elapsed_time.total_seconds()\n",
    "\n",
    "    try:\n",
    "        return dist / elapsed_time\n",
    "    except ZeroDivisionError:\n",
    "        return 299792.458  \n",
    "# (Speed of light)"
   ]
  },
  {
   "cell_type": "code",
   "execution_count": 60,
   "metadata": {},
   "outputs": [],
   "source": [
    "def validateFraud(amount, card_id, postcode, txndate):\n",
    "    print(\"into validateFraud function - part1\")\n",
    "    status_ucl_crdScore = verify_ucl_data(card_id, amount)\n",
    "    print(\"Status of UCL and CreditScore is \", status_ucl_crdScore)\n",
    "    \n",
    "    status_distance = verify_postcode_data(card_id, postcode, txndate)\n",
    "    \n",
    "    if status_ucl_crdScore==True and status_distance==True :\n",
    "        print(\"3 Rules check passed!!!!!! ; congratulations! \")\n",
    "        return True\n",
    "    else : \n",
    "        return False\n",
    "    \n",
    "\n",
    "    #return status_ucl"
   ]
  },
  {
   "cell_type": "code",
   "execution_count": 9,
   "metadata": {},
   "outputs": [
    {
     "name": "stderr",
     "output_type": "stream",
     "text": [
      "WARNING:kafka.coordinator:Heartbeat failed for group my_group_id1 because it is rebalancing\n"
     ]
    },
    {
     "name": "stdout",
     "output_type": "stream",
     "text": [
      "b'{\"card_id\":348702330256514,\"member_id\":37495066290,\"amount\":4380912,\"postcode\":96774,\"pos_id\":248063406800722,\"transaction_dt\":\"01-03-2018 08:24:29\"}'\n",
      "into validateFraud function - part1\n",
      "into verify_ucl_data function\n",
      "card id from kafka is  348702330256514\n",
      "amount from kafka is  4380912\n",
      "lookupvalue is  <pymongo.cursor.Cursor object at 0x000001C096CB29D0>\n",
      "lookupvalue type is  <class 'pymongo.cursor.Cursor'>\n",
      "dataucl is  12794239.889645452\n",
      "credit score is  225\n",
      "Status of UCL and CreditScore is  True\n",
      "lookupvalue form postcode method is  <pymongo.cursor.Cursor object at 0x000001C096CB2E80>\n",
      "lookupvalue type is  <class 'pymongo.cursor.Cursor'>\n",
      "Final status is  True\n"
     ]
    },
    {
     "name": "stderr",
     "output_type": "stream",
     "text": [
      "WARNING:kafka.coordinator:Heartbeat failed for group my_group_id1 because it is rebalancing\n",
      "WARNING:kafka.coordinator:Heartbeat failed for group my_group_id1 because it is rebalancing\n",
      "WARNING:kafka.coordinator:Heartbeat failed for group my_group_id1 because it is rebalancing\n"
     ]
    }
   ],
   "source": [
    "from kafka import KafkaConsumer\n",
    "import sys\n",
    "\n",
    "### Setting up the Python consumer\n",
    "bootstrap_servers = ['18.211.252.152:9092']\n",
    "topicName = 'transactions-topic-verified'\n",
    "consumer = KafkaConsumer (topicName, group_id = 'my_group_id2',bootstrap_servers = bootstrap_servers,\n",
    "auto_offset_reset = 'earliest')   ## You can also set it as latest\n",
    "\n",
    "### Reading the message from consumer\n",
    "try:\n",
    "    for message in consumer:\n",
    "        #print (\"%s:%d:%d: key=%s value=%s\" % (message.topic, message.partition,message.offset, message.key,message.value))\n",
    "        print (\"%s\" % (message.value))\n",
    "        kafkajsonObj = json.loads(message.value)\n",
    "        status = validateFraud(kafkajsonObj[\"amount\"], kafkajsonObj[\"card_id\"],kafkajsonObj[\"postcode\"], kafkajsonObj[\"transaction_dt\"])\n",
    "        print(\"Final status is \", status)\n",
    "        break\n",
    "except KeyboardInterrupt:\n",
    "    sys.exit()"
   ]
  }
 ],
 "metadata": {
  "kernelspec": {
   "display_name": "Python 3",
   "language": "python",
   "name": "python3"
  },
  "language_info": {
   "codemirror_mode": {
    "name": "ipython",
    "version": 3
   },
   "file_extension": ".py",
   "mimetype": "text/x-python",
   "name": "python",
   "nbconvert_exporter": "python",
   "pygments_lexer": "ipython3",
   "version": "3.8.8"
  }
 },
 "nbformat": 4,
 "nbformat_minor": 4
}
