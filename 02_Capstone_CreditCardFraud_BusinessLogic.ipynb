{
 "cells": [
  {
   "cell_type": "code",
   "execution_count": 1,
   "metadata": {},
   "outputs": [
    {
     "name": "stdout",
     "output_type": "stream",
     "text": [
      "Requirement already satisfied: kafka-python in c:\\programdata\\anaconda3\\lib\\site-packages (2.0.2)\n",
      "Note: you may need to restart the kernel to use updated packages.\n"
     ]
    }
   ],
   "source": [
    "pip install kafka-python"
   ]
  },
  {
   "cell_type": "code",
   "execution_count": 2,
   "metadata": {},
   "outputs": [
    {
     "name": "stdout",
     "output_type": "stream",
     "text": [
      "Requirement already satisfied: pymongo in c:\\programdata\\anaconda3\\lib\\site-packages (4.3.3)\n",
      "Requirement already satisfied: dnspython<3.0.0,>=1.16.0 in c:\\programdata\\anaconda3\\lib\\site-packages (from pymongo) (2.2.1)\n",
      "Note: you may need to restart the kernel to use updated packages.\n"
     ]
    }
   ],
   "source": [
    "pip install pymongo\n"
   ]
  },
  {
   "cell_type": "code",
   "execution_count": 1,
   "metadata": {},
   "outputs": [],
   "source": [
    "import json\n",
    "from pymongo import MongoClient\n",
    "import math\n",
    "import pandas as pd\n",
    "import numpy as np\n",
    "import datetime\n",
    "\n",
    "#client = MongoClient();"
   ]
  },
  {
   "cell_type": "code",
   "execution_count": 2,
   "metadata": {},
   "outputs": [],
   "source": [
    "speed_threshold = 0.25  # km/sec - Average speed of flight 900 km/hr"
   ]
  },
  {
   "cell_type": "code",
   "execution_count": 25,
   "metadata": {},
   "outputs": [],
   "source": [
    "class GEO_Map():\n",
    "\t\"\"\"\n",
    "\tIt hold the  map for zip code and its latitute and longitute\n",
    "\t\"\"\"\n",
    "\t__instance = None\n",
    "\n",
    "\t@staticmethod\n",
    "\tdef get_instance():\n",
    "\t\t\"\"\" Static access method. \"\"\"\n",
    "\t\tif GEO_Map.__instance == None:\n",
    "\t\t\tGEO_Map()\n",
    "\t\treturn GEO_Map.__instance\n",
    "\n",
    "\tdef __init__(self):\n",
    "\t\t\"\"\" Virtually private constructor. \"\"\"\n",
    "\t\tif GEO_Map.__instance != None:\n",
    "\t\t\traise Exception(\"This class is a singleton!\")\n",
    "\t\telse:\n",
    "\t\t\tGEO_Map.__instance = self\n",
    "\t\t\tself.map = pd.read_csv(\"uszipsv.csv\", header=None, names=['A',\"B\",'C','D','E'])\n",
    "\t\t\tself.map['A'] =  self.map['A'].astype(str)\n",
    "\n",
    "\tdef get_lat(self, pos_id):\n",
    "\t\t#print(\"printing value from class \", self.map[self.map.A == pos_id ].B)        \n",
    "\t\treturn self.map[self.map.A == pos_id ].B\n",
    "\n",
    "\tdef get_long(self, pos_id):\n",
    "\t\treturn self.map[self.map.A == pos_id ].C\n",
    "\n",
    "\tdef distance(self, lat1, long1, lat2, long2):\n",
    "\t\ttheta = long1 - long2\n",
    "\t\tdist = math.sin(self.deg2rad(lat1)) * math.sin(self.deg2rad(lat2)) + math.cos(self.deg2rad(lat1)) * math.cos(self.deg2rad(lat2)) * math.cos(self.deg2rad(theta))\n",
    "\t\tdist = math.acos(dist)\n",
    "\t\tdist = self.rad2deg(dist)\n",
    "\t\tdist = dist * 60 * 1.1515 * 1.609344\n",
    "\t\treturn dist\n",
    "\n",
    "\tdef rad2deg(self, rad):\n",
    "\t\treturn rad * 180.0 / math.pi\n",
    "\n",
    "\tdef deg2rad(self, deg):\n",
    "\t\treturn deg * math.pi / 180.0"
   ]
  },
  {
   "cell_type": "code",
   "execution_count": 23,
   "metadata": {},
   "outputs": [],
   "source": [
    "# Function to check rules for UCL and Credit Score\n",
    "def verify_ucl_data(card_id, amount):\n",
    "    #print(\"into verify_ucl_data function\")  \n",
    "    #print(\"card id from kafka is \", card_id)\n",
    "    #print(\"amount from kafka is \", amount)\n",
    "    try:\n",
    "        client = MongoClient();\n",
    "        # Database Name\n",
    "        db = client[\"CREDIT_CARD_DB\"]\n",
    "        \n",
    "        # Collection Name\n",
    "        lookupTable = db[\"lookup_table\"]\n",
    "        \n",
    "        lookupValue = lookupTable.find_one({'card_id': 378303738095292}) #378303738095292\n",
    "        #lookupValue = lookupTable.find({'card_id': card_id}) #378303738095292\n",
    "        #lookupValue = col.find({'member_id': 1314074991813})\n",
    "        #print(\"lookupvalue is \", lookupValue)\n",
    "        #print(\"lookupvalue type is \", type(lookupValue))\n",
    "        \n",
    "        #if lookupValue is None : \n",
    "        #    return False\n",
    "        \n",
    "        #for data in lookupValue:\n",
    "            #print(\"data is \", data)\n",
    "            #print(\"dataucl is \", data[\"ucl\"])\n",
    "            #print(\"credit score is \", data[\"score\"])\n",
    "            \n",
    "        #if data is None : \n",
    "        #    return False\n",
    "\n",
    "        \n",
    "        if amount < float(lookupValue[\"ucl\"]) and float(lookupValue[\"ucl\"]) > 200:\n",
    "            return True\n",
    "        else:\n",
    "            return False\n",
    "    except Exception as e:\n",
    "        raise Exception(e)"
   ]
  },
  {
   "cell_type": "code",
   "execution_count": 18,
   "metadata": {},
   "outputs": [],
   "source": [
    "\"\"\"\n",
    "Function to verify the following zipcode rules\n",
    "ZIP code distance\n",
    ":param card_id: (Long) Card id of the card customer\n",
    ":param postcode: (Integer) Post code of the card transaction\n",
    ":param transaction_dt: (String) Timestamp\n",
    ":return: (Boolean)\n",
    "\"\"\"\n",
    "def verify_postcode_data(card_id, postcode, transaction_dt):\n",
    "\n",
    "    try:\n",
    "        \n",
    "        client = MongoClient();\n",
    "        # Database Name\n",
    "        db = client[\"CREDIT_CARD_DB\"]\n",
    "        # Collection Name\n",
    "        lookupTable = db[\"lookup_table\"]\n",
    "        \n",
    "        lookupValue = lookupTable.find_one({'card_id': 378303738095292}) #378303738095292\n",
    "        #print(\"lookupValue\", lookupValue)\n",
    "        geo_map = GEO_Map.get_instance()\n",
    "        \n",
    "        #card_row = hbasedao.get_data(key=str(card_id), table=lookup_table)\n",
    "        #last_postcode = (card_row[b'card_data:postcode']).decode(\"utf-8\")\n",
    "        #last_transaction_dt = (card_row[b'card_data:transaction_dt']).decode(\"utf-8\")\n",
    "        \n",
    "        last_postcode = lookupValue[\"postcode\"]\n",
    "        last_transaction_dt = lookupValue[\"transaction_dt2\"]\n",
    "        #print(\"last_postcode\", last_postcode)\n",
    "        #print(\"last_transaction_dt\", last_transaction_dt)\n",
    "\n",
    "        current_lat = geo_map.get_lat(str(postcode))\n",
    "        for data in current_lat:\n",
    "            #print(\"current_lat data is >>>>>>>>>>>>>>>>>>>>\", data)\n",
    "            current_lat1 = data\n",
    "        current_lon = geo_map.get_long(str(postcode))\n",
    "        for data in current_lon:\n",
    "            #print(\"current_lon data is >>>>>>>>>>>>>>>>>>>>\", data)\n",
    "            current_lon1 = data\n",
    "        previous_lat = geo_map.get_lat(str(last_postcode))\n",
    "        for data in previous_lat:\n",
    "            #print(\"previous_lat data is >>>>>>>>>>>>>>>>>>>>\", data)\n",
    "            previous_lat1 = data\n",
    "        previous_lon = geo_map.get_long(str(last_postcode))\n",
    "        for data in previous_lon:\n",
    "            #print(\"previous_lon data is >>>>>>>>>>>>>>>>>>>>\", data)\n",
    "            previous_lon1 = data\n",
    "        \n",
    "        #for data in current_lat:\n",
    "            #print(\"data is>>>>>>>>>>> \", data)\n",
    "            #print(\"dataucl is \", data[\"ucl\"])\n",
    "            #print(\"credit score is \", data[\"score\"])\n",
    "        \n",
    "        #print(\"***************************************************************\")\n",
    "        #print(\"1. current_lat\", current_lat1)\n",
    "        #print(\"2. current_lon\", current_lon1)\n",
    "        #print(\"3. previous_lat\", previous_lat1)\n",
    "        #print(\"4. previous_lon\", previous_lon1)\n",
    "        #print(\"***************************************************************\")\n",
    "        \n",
    "        \n",
    "        dist = geo_map.distance(lat1=current_lat1, long1=current_lon1, lat2=previous_lat1, long2=previous_lon1)\n",
    "        #print(\"distance is ************************************************* \", dist)\n",
    "        #dist = distance2(lat1=current_lat, long1=current_lon, lat2=previous_lat, long2=previous_lon)\n",
    "\n",
    "        speed = calculate_speed(dist, transaction_dt, last_transaction_dt)\n",
    "        #print(\"speed is ****************************************************\", speed)\n",
    "\n",
    "        if speed < speed_threshold:\n",
    "            return True\n",
    "        else:\n",
    "            return False\n",
    "\n",
    "    except Exception as e:\n",
    "        raise Exception(e)\n",
    "\n"
   ]
  },
  {
   "cell_type": "code",
   "execution_count": 19,
   "metadata": {},
   "outputs": [],
   "source": [
    "\"\"\"\n",
    "A function to calculate the speed from distance and transaction timestamp differentials\n",
    ":param dist: (Float) Distance between postcodes\n",
    ":param transaction_dt1: Transaction timestamp from the table\n",
    ":param transaction_dt2: Transaction timestamp from the POS\n",
    ":return: (Float) Speed\n",
    "\"\"\"\n",
    "def calculate_speed(dist, transaction_dt1, transaction_dt2):\n",
    "\n",
    "    #print(\"transaction_dt1>>>>>>>>>>>\",transaction_dt1)\n",
    "    #print(\"transaction_dt2>>>>>>>>>>>\",transaction_dt2)\n",
    "    #transaction_dt1>>>>>>>>>>> 01-03-2018 08:24:29\n",
    "    #transaction_dt2>>>>>>>>>>> 2018-06-01 14:31:05\n",
    "    transaction_dt1 = datetime.datetime.strptime(transaction_dt1, '%d-%m-%Y %H:%M:%S')\n",
    "    transaction_dt2 = datetime.datetime.strptime(transaction_dt2, '%Y-%m-%d %H:%M:%S')\n",
    "\n",
    "    elapsed_time = transaction_dt1 - transaction_dt2\n",
    "    elapsed_time = elapsed_time.total_seconds()\n",
    "\n",
    "    try:\n",
    "        return dist / elapsed_time\n",
    "    except ZeroDivisionError:\n",
    "        return 299792.458  \n",
    "# (Speed of light)"
   ]
  },
  {
   "cell_type": "code",
   "execution_count": null,
   "metadata": {},
   "outputs": [],
   "source": [
    "import pymongo\n",
    "\n",
    "myclient = pymongo.MongoClient(\"mongodb://localhost:27017/\")\n",
    "mydb = myclient[\"mydatabase\"]\n",
    "mycol = mydb[\"customers\"]\n",
    "\n",
    "mydict = { \"name\": \"John\", \"address\": \"Highway 37\" }\n",
    "\n",
    "x = mycol.insert_one(mydict)\n"
   ]
  },
  {
   "cell_type": "code",
   "execution_count": 16,
   "metadata": {},
   "outputs": [
    {
     "data": {
      "text/plain": [
       "<pymongo.results.InsertOneResult at 0x205dcae5b20>"
      ]
     },
     "execution_count": 16,
     "metadata": {},
     "output_type": "execute_result"
    }
   ],
   "source": [
    "\"\"\"\n",
    "A function to update genuine and fraud transactions into the two collections\n",
    "1. Collection 1 - \n",
    "2. Collection 2 - \n",
    "\"\"\"\n",
    "\n",
    "client = MongoClient();\n",
    "# Database Name\n",
    "mydb = client[\"CREDIT_CARD_DB\"]\n",
    "mycol = mydb[\"card_transactions\"]\n",
    "mydict = {\"card_id\" : 348702330256514, \"member_id\" : 37495066290, \"amount\" : 9084849, \"postcode\" : 33946, \"pos_id\" : 614677375609919, \"transaction_dt\" : \"11-02-2018 00:00:00\", \"status\" : \"GENUINE\"}    \n",
    "mycol.insert_one(mydict)"
   ]
  },
  {
   "cell_type": "code",
   "execution_count": null,
   "metadata": {},
   "outputs": [],
   "source": [
    "import pymongo\n",
    "\n",
    "myclient = pymongo.MongoClient(\"mongodb://localhost:27017/\")\n",
    "mydb = myclient[\"mydatabase\"]\n",
    "mycol = mydb[\"customers\"]\n",
    "\n",
    "myquery = { \"address\": \"Valley 345\" }\n",
    "newvalues = { \"$set\": { \"address\": \"Canyon 123\" } }\n",
    "\n",
    "mycol.update_one(myquery, newvalues)\n",
    "\n",
    "#print \"customers\" after the update:\n",
    "for x in mycol.find():\n",
    "  print(x)\n"
   ]
  },
  {
   "cell_type": "code",
   "execution_count": 12,
   "metadata": {},
   "outputs": [
    {
     "data": {
      "text/plain": [
       "<pymongo.results.UpdateResult at 0x15e426ddcd0>"
      ]
     },
     "execution_count": 12,
     "metadata": {},
     "output_type": "execute_result"
    }
   ],
   "source": [
    "\n",
    "client = MongoClient();\n",
    "# Database Name\n",
    "mydb = client[\"CREDIT_CARD_DB\"]\n",
    "mycol = mydb[\"lookup_table\"]\n",
    "lookupUpdQryOld = {\"card_id\" : 4877961603808028}    \n",
    "lookupUpdQryNew = { \"$set\": {\"card_id\" : 4877961603808028, \"member_id\" : 15235737327750, \"amount\" : 1000, \"postcode\" : 33946, \"pos_id\" : 614677375609919, \"transaction_dt\" : \"12-02-2021 00:00:00\", \"status\" : \"GENUINE\"}    }\n",
    "mycol.update_one(lookupUpdQryOld, lookupUpdQryNew)"
   ]
  },
  {
   "cell_type": "code",
   "execution_count": 20,
   "metadata": {},
   "outputs": [],
   "source": [
    "def validateFraud(amount, card_id, postcode, txndate):\n",
    "    #print(\"into validateFraud function - part1\")\n",
    "    status_ucl_crdScore = verify_ucl_data(card_id, amount)\n",
    "    #print(\"Status of UCL and CreditScore is \", status_ucl_crdScore)\n",
    "    \n",
    "    status_distance = verify_postcode_data(card_id, postcode, txndate)\n",
    "    \n",
    "    if status_ucl_crdScore==True and status_distance==True :\n",
    "        #print(\"3 Rules check passed!!!!!! ; congratulations! \")\n",
    "        return True\n",
    "    else : \n",
    "        return False\n",
    "    \n",
    "\n",
    "    #return status_ucl"
   ]
  },
  {
   "cell_type": "code",
   "execution_count": 21,
   "metadata": {},
   "outputs": [],
   "source": [
    "#{\"card_id\":348702330256514,\"member_id\":37495066290,\"amount\":4380912,\"postcode\":96774,\"pos_id\":248063406800722,\"transaction_dt\":\"01-03-2018 08:24:29\"}\n",
    "#validateFraud(kafkajsonObj[\"amount\"], kafkajsonObj[\"card_id\"],kafkajsonObj[\"postcode\"], kafkajsonObj[\"transaction_dt\"])\n",
    "def validateFraud1(kafkajsonObj):\n",
    "    #print(\"into validateFraud function - part1\")\n",
    "    status_ucl_crdScore = verify_ucl_data(kafkajsonObj[\"card_id\"],kafkajsonObj[\"amount\"])\n",
    "    #print(\"Status of UCL and CreditScore is \", status_ucl_crdScore)\n",
    "    \n",
    "    status_distance = verify_postcode_data(kafkajsonObj[\"card_id\"], kafkajsonObj[\"postcode\"], kafkajsonObj[\"transaction_dt\"])\n",
    "    \n",
    "    if status_ucl_crdScore==True and status_distance==True :\n",
    "        #print(\"3 Rules check passed!!!!!! ; congratulations! \")\n",
    "        return True\n",
    "    else : \n",
    "        return False\n",
    "    \n",
    "\n",
    "    #return status_ucl"
   ]
  },
  {
   "cell_type": "code",
   "execution_count": 28,
   "metadata": {},
   "outputs": [
    {
     "name": "stdout",
     "output_type": "stream",
     "text": [
      "is false? Final status is %d : %s  1 False\n"
     ]
    },
    {
     "name": "stderr",
     "output_type": "stream",
     "text": [
      "ERROR:root:Internal Python error in the inspect module.\n",
      "Below is the traceback from this internal error.\n",
      "\n"
     ]
    },
    {
     "name": "stdout",
     "output_type": "stream",
     "text": [
      "Traceback (most recent call last):\n",
      "  File \"<ipython-input-28-a86ea18a4a5b>\", line 17, in <module>\n",
      "    status = validateFraud(kafkajsonObj[\"amount\"], kafkajsonObj[\"card_id\"],kafkajsonObj[\"postcode\"], kafkajsonObj[\"transaction_dt\"])\n",
      "  File \"<ipython-input-20-2886a5fbe09b>\", line 3, in validateFraud\n",
      "    status_ucl_crdScore = verify_ucl_data(card_id, amount)\n",
      "  File \"<ipython-input-23-1d42bd23bd35>\", line 14, in verify_ucl_data\n",
      "    lookupValue = lookupTable.find_one({'card_id': 378303738095292}) #378303738095292\n",
      "  File \"C:\\ProgramData\\Anaconda3\\lib\\site-packages\\pymongo\\collection.py\", line 1459, in find_one\n",
      "    for result in cursor.limit(-1):\n",
      "  File \"C:\\ProgramData\\Anaconda3\\lib\\site-packages\\pymongo\\cursor.py\", line 1248, in next\n",
      "    if len(self.__data) or self._refresh():\n",
      "  File \"C:\\ProgramData\\Anaconda3\\lib\\site-packages\\pymongo\\cursor.py\", line 1165, in _refresh\n",
      "    self.__send_message(q)\n",
      "  File \"C:\\ProgramData\\Anaconda3\\lib\\site-packages\\pymongo\\cursor.py\", line 1052, in __send_message\n",
      "    response = client._run_operation(\n",
      "  File \"C:\\ProgramData\\Anaconda3\\lib\\site-packages\\pymongo\\_csot.py\", line 105, in csot_wrapper\n",
      "    return func(self, *args, **kwargs)\n",
      "  File \"C:\\ProgramData\\Anaconda3\\lib\\site-packages\\pymongo\\mongo_client.py\", line 1330, in _run_operation\n",
      "    return self._retryable_read(\n",
      "  File \"C:\\ProgramData\\Anaconda3\\lib\\site-packages\\pymongo\\_csot.py\", line 105, in csot_wrapper\n",
      "    return func(self, *args, **kwargs)\n",
      "  File \"C:\\ProgramData\\Anaconda3\\lib\\site-packages\\pymongo\\mongo_client.py\", line 1448, in _retryable_read\n",
      "    return func(session, server, sock_info, read_pref)\n",
      "  File \"C:\\ProgramData\\Anaconda3\\lib\\site-packages\\pymongo\\mongo_client.py\", line 1326, in _cmd\n",
      "    return server.run_operation(\n",
      "  File \"C:\\ProgramData\\Anaconda3\\lib\\site-packages\\pymongo\\server.py\", line 114, in run_operation\n",
      "    sock_info.send_message(data, max_doc_size)\n",
      "  File \"C:\\ProgramData\\Anaconda3\\lib\\site-packages\\pymongo\\pool.py\", line 811, in send_message\n",
      "    self._raise_connection_failure(error)\n",
      "  File \"C:\\ProgramData\\Anaconda3\\lib\\site-packages\\pymongo\\pool.py\", line 809, in send_message\n",
      "    self.sock.sendall(message)\n",
      "KeyboardInterrupt\n",
      "\n",
      "During handling of the above exception, another exception occurred:\n",
      "\n",
      "Traceback (most recent call last):\n",
      "  File \"C:\\ProgramData\\Anaconda3\\lib\\site-packages\\IPython\\core\\interactiveshell.py\", line 3437, in run_code\n",
      "    exec(code_obj, self.user_global_ns, self.user_ns)\n",
      "  File \"<ipython-input-28-a86ea18a4a5b>\", line 24, in <module>\n",
      "    sys.exit()\n",
      "SystemExit\n",
      "\n",
      "During handling of the above exception, another exception occurred:\n",
      "\n",
      "Traceback (most recent call last):\n",
      "  File \"C:\\ProgramData\\Anaconda3\\lib\\site-packages\\IPython\\core\\ultratb.py\", line 1101, in get_records\n",
      "    return _fixed_getinnerframes(etb, number_of_lines_of_context, tb_offset)\n",
      "  File \"C:\\ProgramData\\Anaconda3\\lib\\site-packages\\IPython\\core\\ultratb.py\", line 248, in wrapped\n",
      "    return f(*args, **kwargs)\n",
      "  File \"C:\\ProgramData\\Anaconda3\\lib\\site-packages\\IPython\\core\\ultratb.py\", line 281, in _fixed_getinnerframes\n",
      "    records = fix_frame_records_filenames(inspect.getinnerframes(etb, context))\n",
      "  File \"C:\\ProgramData\\Anaconda3\\lib\\inspect.py\", line 1515, in getinnerframes\n",
      "    frameinfo = (tb.tb_frame,) + getframeinfo(tb, context)\n",
      "AttributeError: 'tuple' object has no attribute 'tb_frame'\n"
     ]
    },
    {
     "ename": "TypeError",
     "evalue": "object of type 'NoneType' has no len()",
     "output_type": "error",
     "traceback": [
      "\u001b[1;31m---------------------------------------------------------------------------\u001b[0m",
      "\u001b[1;31mKeyboardInterrupt\u001b[0m                         Traceback (most recent call last)",
      "\u001b[1;32m<ipython-input-28-a86ea18a4a5b>\u001b[0m in \u001b[0;36m<module>\u001b[1;34m\u001b[0m\n\u001b[0;32m     16\u001b[0m         \u001b[0mkafkajsonObj\u001b[0m \u001b[1;33m=\u001b[0m \u001b[0mjson\u001b[0m\u001b[1;33m.\u001b[0m\u001b[0mloads\u001b[0m\u001b[1;33m(\u001b[0m\u001b[0mmessage\u001b[0m\u001b[1;33m.\u001b[0m\u001b[0mvalue\u001b[0m\u001b[1;33m)\u001b[0m\u001b[1;33m\u001b[0m\u001b[1;33m\u001b[0m\u001b[0m\n\u001b[1;32m---> 17\u001b[1;33m         \u001b[0mstatus\u001b[0m \u001b[1;33m=\u001b[0m \u001b[0mvalidateFraud\u001b[0m\u001b[1;33m(\u001b[0m\u001b[0mkafkajsonObj\u001b[0m\u001b[1;33m[\u001b[0m\u001b[1;34m\"amount\"\u001b[0m\u001b[1;33m]\u001b[0m\u001b[1;33m,\u001b[0m \u001b[0mkafkajsonObj\u001b[0m\u001b[1;33m[\u001b[0m\u001b[1;34m\"card_id\"\u001b[0m\u001b[1;33m]\u001b[0m\u001b[1;33m,\u001b[0m\u001b[0mkafkajsonObj\u001b[0m\u001b[1;33m[\u001b[0m\u001b[1;34m\"postcode\"\u001b[0m\u001b[1;33m]\u001b[0m\u001b[1;33m,\u001b[0m \u001b[0mkafkajsonObj\u001b[0m\u001b[1;33m[\u001b[0m\u001b[1;34m\"transaction_dt\"\u001b[0m\u001b[1;33m]\u001b[0m\u001b[1;33m)\u001b[0m\u001b[1;33m\u001b[0m\u001b[1;33m\u001b[0m\u001b[0m\n\u001b[0m\u001b[0;32m     18\u001b[0m         \u001b[1;31m#status = validateFraud1(kafkajsonObj)\u001b[0m\u001b[1;33m\u001b[0m\u001b[1;33m\u001b[0m\u001b[1;33m\u001b[0m\u001b[0m\n",
      "\u001b[1;32m<ipython-input-20-2886a5fbe09b>\u001b[0m in \u001b[0;36mvalidateFraud\u001b[1;34m(amount, card_id, postcode, txndate)\u001b[0m\n\u001b[0;32m      2\u001b[0m     \u001b[1;31m#print(\"into validateFraud function - part1\")\u001b[0m\u001b[1;33m\u001b[0m\u001b[1;33m\u001b[0m\u001b[1;33m\u001b[0m\u001b[0m\n\u001b[1;32m----> 3\u001b[1;33m     \u001b[0mstatus_ucl_crdScore\u001b[0m \u001b[1;33m=\u001b[0m \u001b[0mverify_ucl_data\u001b[0m\u001b[1;33m(\u001b[0m\u001b[0mcard_id\u001b[0m\u001b[1;33m,\u001b[0m \u001b[0mamount\u001b[0m\u001b[1;33m)\u001b[0m\u001b[1;33m\u001b[0m\u001b[1;33m\u001b[0m\u001b[0m\n\u001b[0m\u001b[0;32m      4\u001b[0m     \u001b[1;31m#print(\"Status of UCL and CreditScore is \", status_ucl_crdScore)\u001b[0m\u001b[1;33m\u001b[0m\u001b[1;33m\u001b[0m\u001b[1;33m\u001b[0m\u001b[0m\n",
      "\u001b[1;32m<ipython-input-23-1d42bd23bd35>\u001b[0m in \u001b[0;36mverify_ucl_data\u001b[1;34m(card_id, amount)\u001b[0m\n\u001b[0;32m     13\u001b[0m \u001b[1;33m\u001b[0m\u001b[0m\n\u001b[1;32m---> 14\u001b[1;33m         \u001b[0mlookupValue\u001b[0m \u001b[1;33m=\u001b[0m \u001b[0mlookupTable\u001b[0m\u001b[1;33m.\u001b[0m\u001b[0mfind_one\u001b[0m\u001b[1;33m(\u001b[0m\u001b[1;33m{\u001b[0m\u001b[1;34m'card_id'\u001b[0m\u001b[1;33m:\u001b[0m \u001b[1;36m378303738095292\u001b[0m\u001b[1;33m}\u001b[0m\u001b[1;33m)\u001b[0m \u001b[1;31m#378303738095292\u001b[0m\u001b[1;33m\u001b[0m\u001b[1;33m\u001b[0m\u001b[0m\n\u001b[0m\u001b[0;32m     15\u001b[0m         \u001b[1;31m#lookupValue = lookupTable.find({'card_id': card_id}) #378303738095292\u001b[0m\u001b[1;33m\u001b[0m\u001b[1;33m\u001b[0m\u001b[1;33m\u001b[0m\u001b[0m\n",
      "\u001b[1;32mC:\\ProgramData\\Anaconda3\\lib\\site-packages\\pymongo\\collection.py\u001b[0m in \u001b[0;36mfind_one\u001b[1;34m(self, filter, *args, **kwargs)\u001b[0m\n\u001b[0;32m   1458\u001b[0m         \u001b[0mcursor\u001b[0m \u001b[1;33m=\u001b[0m \u001b[0mself\u001b[0m\u001b[1;33m.\u001b[0m\u001b[0mfind\u001b[0m\u001b[1;33m(\u001b[0m\u001b[0mfilter\u001b[0m\u001b[1;33m,\u001b[0m \u001b[1;33m*\u001b[0m\u001b[0margs\u001b[0m\u001b[1;33m,\u001b[0m \u001b[1;33m**\u001b[0m\u001b[0mkwargs\u001b[0m\u001b[1;33m)\u001b[0m\u001b[1;33m\u001b[0m\u001b[1;33m\u001b[0m\u001b[0m\n\u001b[1;32m-> 1459\u001b[1;33m         \u001b[1;32mfor\u001b[0m \u001b[0mresult\u001b[0m \u001b[1;32min\u001b[0m \u001b[0mcursor\u001b[0m\u001b[1;33m.\u001b[0m\u001b[0mlimit\u001b[0m\u001b[1;33m(\u001b[0m\u001b[1;33m-\u001b[0m\u001b[1;36m1\u001b[0m\u001b[1;33m)\u001b[0m\u001b[1;33m:\u001b[0m\u001b[1;33m\u001b[0m\u001b[1;33m\u001b[0m\u001b[0m\n\u001b[0m\u001b[0;32m   1460\u001b[0m             \u001b[1;32mreturn\u001b[0m \u001b[0mresult\u001b[0m\u001b[1;33m\u001b[0m\u001b[1;33m\u001b[0m\u001b[0m\n",
      "\u001b[1;32mC:\\ProgramData\\Anaconda3\\lib\\site-packages\\pymongo\\cursor.py\u001b[0m in \u001b[0;36mnext\u001b[1;34m(self)\u001b[0m\n\u001b[0;32m   1247\u001b[0m             \u001b[1;32mraise\u001b[0m \u001b[0mStopIteration\u001b[0m\u001b[1;33m\u001b[0m\u001b[1;33m\u001b[0m\u001b[0m\n\u001b[1;32m-> 1248\u001b[1;33m         \u001b[1;32mif\u001b[0m \u001b[0mlen\u001b[0m\u001b[1;33m(\u001b[0m\u001b[0mself\u001b[0m\u001b[1;33m.\u001b[0m\u001b[0m__data\u001b[0m\u001b[1;33m)\u001b[0m \u001b[1;32mor\u001b[0m \u001b[0mself\u001b[0m\u001b[1;33m.\u001b[0m\u001b[0m_refresh\u001b[0m\u001b[1;33m(\u001b[0m\u001b[1;33m)\u001b[0m\u001b[1;33m:\u001b[0m\u001b[1;33m\u001b[0m\u001b[1;33m\u001b[0m\u001b[0m\n\u001b[0m\u001b[0;32m   1249\u001b[0m             \u001b[1;32mreturn\u001b[0m \u001b[0mself\u001b[0m\u001b[1;33m.\u001b[0m\u001b[0m__data\u001b[0m\u001b[1;33m.\u001b[0m\u001b[0mpopleft\u001b[0m\u001b[1;33m(\u001b[0m\u001b[1;33m)\u001b[0m\u001b[1;33m\u001b[0m\u001b[1;33m\u001b[0m\u001b[0m\n",
      "\u001b[1;32mC:\\ProgramData\\Anaconda3\\lib\\site-packages\\pymongo\\cursor.py\u001b[0m in \u001b[0;36m_refresh\u001b[1;34m(self)\u001b[0m\n\u001b[0;32m   1164\u001b[0m             )\n\u001b[1;32m-> 1165\u001b[1;33m             \u001b[0mself\u001b[0m\u001b[1;33m.\u001b[0m\u001b[0m__send_message\u001b[0m\u001b[1;33m(\u001b[0m\u001b[0mq\u001b[0m\u001b[1;33m)\u001b[0m\u001b[1;33m\u001b[0m\u001b[1;33m\u001b[0m\u001b[0m\n\u001b[0m\u001b[0;32m   1166\u001b[0m         \u001b[1;32melif\u001b[0m \u001b[0mself\u001b[0m\u001b[1;33m.\u001b[0m\u001b[0m__id\u001b[0m\u001b[1;33m:\u001b[0m  \u001b[1;31m# Get More\u001b[0m\u001b[1;33m\u001b[0m\u001b[1;33m\u001b[0m\u001b[0m\n",
      "\u001b[1;32mC:\\ProgramData\\Anaconda3\\lib\\site-packages\\pymongo\\cursor.py\u001b[0m in \u001b[0;36m__send_message\u001b[1;34m(self, operation)\u001b[0m\n\u001b[0;32m   1051\u001b[0m         \u001b[1;32mtry\u001b[0m\u001b[1;33m:\u001b[0m\u001b[1;33m\u001b[0m\u001b[1;33m\u001b[0m\u001b[0m\n\u001b[1;32m-> 1052\u001b[1;33m             response = client._run_operation(\n\u001b[0m\u001b[0;32m   1053\u001b[0m                 \u001b[0moperation\u001b[0m\u001b[1;33m,\u001b[0m \u001b[0mself\u001b[0m\u001b[1;33m.\u001b[0m\u001b[0m_unpack_response\u001b[0m\u001b[1;33m,\u001b[0m \u001b[0maddress\u001b[0m\u001b[1;33m=\u001b[0m\u001b[0mself\u001b[0m\u001b[1;33m.\u001b[0m\u001b[0m__address\u001b[0m\u001b[1;33m\u001b[0m\u001b[1;33m\u001b[0m\u001b[0m\n",
      "\u001b[1;32mC:\\ProgramData\\Anaconda3\\lib\\site-packages\\pymongo\\_csot.py\u001b[0m in \u001b[0;36mcsot_wrapper\u001b[1;34m(self, *args, **kwargs)\u001b[0m\n\u001b[0;32m    104\u001b[0m                     \u001b[1;32mreturn\u001b[0m \u001b[0mfunc\u001b[0m\u001b[1;33m(\u001b[0m\u001b[0mself\u001b[0m\u001b[1;33m,\u001b[0m \u001b[1;33m*\u001b[0m\u001b[0margs\u001b[0m\u001b[1;33m,\u001b[0m \u001b[1;33m**\u001b[0m\u001b[0mkwargs\u001b[0m\u001b[1;33m)\u001b[0m\u001b[1;33m\u001b[0m\u001b[1;33m\u001b[0m\u001b[0m\n\u001b[1;32m--> 105\u001b[1;33m         \u001b[1;32mreturn\u001b[0m \u001b[0mfunc\u001b[0m\u001b[1;33m(\u001b[0m\u001b[0mself\u001b[0m\u001b[1;33m,\u001b[0m \u001b[1;33m*\u001b[0m\u001b[0margs\u001b[0m\u001b[1;33m,\u001b[0m \u001b[1;33m**\u001b[0m\u001b[0mkwargs\u001b[0m\u001b[1;33m)\u001b[0m\u001b[1;33m\u001b[0m\u001b[1;33m\u001b[0m\u001b[0m\n\u001b[0m\u001b[0;32m    106\u001b[0m \u001b[1;33m\u001b[0m\u001b[0m\n",
      "\u001b[1;32mC:\\ProgramData\\Anaconda3\\lib\\site-packages\\pymongo\\mongo_client.py\u001b[0m in \u001b[0;36m_run_operation\u001b[1;34m(self, operation, unpack_res, address)\u001b[0m\n\u001b[0;32m   1329\u001b[0m \u001b[1;33m\u001b[0m\u001b[0m\n\u001b[1;32m-> 1330\u001b[1;33m         return self._retryable_read(\n\u001b[0m\u001b[0;32m   1331\u001b[0m             \u001b[0m_cmd\u001b[0m\u001b[1;33m,\u001b[0m\u001b[1;33m\u001b[0m\u001b[1;33m\u001b[0m\u001b[0m\n",
      "\u001b[1;32mC:\\ProgramData\\Anaconda3\\lib\\site-packages\\pymongo\\_csot.py\u001b[0m in \u001b[0;36mcsot_wrapper\u001b[1;34m(self, *args, **kwargs)\u001b[0m\n\u001b[0;32m    104\u001b[0m                     \u001b[1;32mreturn\u001b[0m \u001b[0mfunc\u001b[0m\u001b[1;33m(\u001b[0m\u001b[0mself\u001b[0m\u001b[1;33m,\u001b[0m \u001b[1;33m*\u001b[0m\u001b[0margs\u001b[0m\u001b[1;33m,\u001b[0m \u001b[1;33m**\u001b[0m\u001b[0mkwargs\u001b[0m\u001b[1;33m)\u001b[0m\u001b[1;33m\u001b[0m\u001b[1;33m\u001b[0m\u001b[0m\n\u001b[1;32m--> 105\u001b[1;33m         \u001b[1;32mreturn\u001b[0m \u001b[0mfunc\u001b[0m\u001b[1;33m(\u001b[0m\u001b[0mself\u001b[0m\u001b[1;33m,\u001b[0m \u001b[1;33m*\u001b[0m\u001b[0margs\u001b[0m\u001b[1;33m,\u001b[0m \u001b[1;33m**\u001b[0m\u001b[0mkwargs\u001b[0m\u001b[1;33m)\u001b[0m\u001b[1;33m\u001b[0m\u001b[1;33m\u001b[0m\u001b[0m\n\u001b[0m\u001b[0;32m    106\u001b[0m \u001b[1;33m\u001b[0m\u001b[0m\n",
      "\u001b[1;32mC:\\ProgramData\\Anaconda3\\lib\\site-packages\\pymongo\\mongo_client.py\u001b[0m in \u001b[0;36m_retryable_read\u001b[1;34m(self, func, read_pref, session, address, retryable)\u001b[0m\n\u001b[0;32m   1447\u001b[0m                         \u001b[1;32mraise\u001b[0m \u001b[0mlast_error\u001b[0m\u001b[1;33m\u001b[0m\u001b[1;33m\u001b[0m\u001b[0m\n\u001b[1;32m-> 1448\u001b[1;33m                     \u001b[1;32mreturn\u001b[0m \u001b[0mfunc\u001b[0m\u001b[1;33m(\u001b[0m\u001b[0msession\u001b[0m\u001b[1;33m,\u001b[0m \u001b[0mserver\u001b[0m\u001b[1;33m,\u001b[0m \u001b[0msock_info\u001b[0m\u001b[1;33m,\u001b[0m \u001b[0mread_pref\u001b[0m\u001b[1;33m)\u001b[0m\u001b[1;33m\u001b[0m\u001b[1;33m\u001b[0m\u001b[0m\n\u001b[0m\u001b[0;32m   1449\u001b[0m             \u001b[1;32mexcept\u001b[0m \u001b[0mServerSelectionTimeoutError\u001b[0m\u001b[1;33m:\u001b[0m\u001b[1;33m\u001b[0m\u001b[1;33m\u001b[0m\u001b[0m\n",
      "\u001b[1;32mC:\\ProgramData\\Anaconda3\\lib\\site-packages\\pymongo\\mongo_client.py\u001b[0m in \u001b[0;36m_cmd\u001b[1;34m(session, server, sock_info, read_preference)\u001b[0m\n\u001b[0;32m   1325\u001b[0m             \u001b[0moperation\u001b[0m\u001b[1;33m.\u001b[0m\u001b[0mreset\u001b[0m\u001b[1;33m(\u001b[0m\u001b[1;33m)\u001b[0m  \u001b[1;31m# Reset op in case of retry.\u001b[0m\u001b[1;33m\u001b[0m\u001b[1;33m\u001b[0m\u001b[0m\n\u001b[1;32m-> 1326\u001b[1;33m             return server.run_operation(\n\u001b[0m\u001b[0;32m   1327\u001b[0m                 \u001b[0msock_info\u001b[0m\u001b[1;33m,\u001b[0m \u001b[0moperation\u001b[0m\u001b[1;33m,\u001b[0m \u001b[0mread_preference\u001b[0m\u001b[1;33m,\u001b[0m \u001b[0mself\u001b[0m\u001b[1;33m.\u001b[0m\u001b[0m_event_listeners\u001b[0m\u001b[1;33m,\u001b[0m \u001b[0munpack_res\u001b[0m\u001b[1;33m\u001b[0m\u001b[1;33m\u001b[0m\u001b[0m\n",
      "\u001b[1;32mC:\\ProgramData\\Anaconda3\\lib\\site-packages\\pymongo\\server.py\u001b[0m in \u001b[0;36mrun_operation\u001b[1;34m(self, sock_info, operation, read_preference, listeners, unpack_res)\u001b[0m\n\u001b[0;32m    113\u001b[0m             \u001b[1;32melse\u001b[0m\u001b[1;33m:\u001b[0m\u001b[1;33m\u001b[0m\u001b[1;33m\u001b[0m\u001b[0m\n\u001b[1;32m--> 114\u001b[1;33m                 \u001b[0msock_info\u001b[0m\u001b[1;33m.\u001b[0m\u001b[0msend_message\u001b[0m\u001b[1;33m(\u001b[0m\u001b[0mdata\u001b[0m\u001b[1;33m,\u001b[0m \u001b[0mmax_doc_size\u001b[0m\u001b[1;33m)\u001b[0m\u001b[1;33m\u001b[0m\u001b[1;33m\u001b[0m\u001b[0m\n\u001b[0m\u001b[0;32m    115\u001b[0m                 \u001b[0mreply\u001b[0m \u001b[1;33m=\u001b[0m \u001b[0msock_info\u001b[0m\u001b[1;33m.\u001b[0m\u001b[0mreceive_message\u001b[0m\u001b[1;33m(\u001b[0m\u001b[0mrequest_id\u001b[0m\u001b[1;33m)\u001b[0m\u001b[1;33m\u001b[0m\u001b[1;33m\u001b[0m\u001b[0m\n",
      "\u001b[1;32mC:\\ProgramData\\Anaconda3\\lib\\site-packages\\pymongo\\pool.py\u001b[0m in \u001b[0;36msend_message\u001b[1;34m(self, message, max_doc_size)\u001b[0m\n\u001b[0;32m    810\u001b[0m         \u001b[1;32mexcept\u001b[0m \u001b[0mBaseException\u001b[0m \u001b[1;32mas\u001b[0m \u001b[0merror\u001b[0m\u001b[1;33m:\u001b[0m\u001b[1;33m\u001b[0m\u001b[1;33m\u001b[0m\u001b[0m\n\u001b[1;32m--> 811\u001b[1;33m             \u001b[0mself\u001b[0m\u001b[1;33m.\u001b[0m\u001b[0m_raise_connection_failure\u001b[0m\u001b[1;33m(\u001b[0m\u001b[0merror\u001b[0m\u001b[1;33m)\u001b[0m\u001b[1;33m\u001b[0m\u001b[1;33m\u001b[0m\u001b[0m\n\u001b[0m\u001b[0;32m    812\u001b[0m \u001b[1;33m\u001b[0m\u001b[0m\n",
      "\u001b[1;32mC:\\ProgramData\\Anaconda3\\lib\\site-packages\\pymongo\\pool.py\u001b[0m in \u001b[0;36msend_message\u001b[1;34m(self, message, max_doc_size)\u001b[0m\n\u001b[0;32m    808\u001b[0m         \u001b[1;32mtry\u001b[0m\u001b[1;33m:\u001b[0m\u001b[1;33m\u001b[0m\u001b[1;33m\u001b[0m\u001b[0m\n\u001b[1;32m--> 809\u001b[1;33m             \u001b[0mself\u001b[0m\u001b[1;33m.\u001b[0m\u001b[0msock\u001b[0m\u001b[1;33m.\u001b[0m\u001b[0msendall\u001b[0m\u001b[1;33m(\u001b[0m\u001b[0mmessage\u001b[0m\u001b[1;33m)\u001b[0m\u001b[1;33m\u001b[0m\u001b[1;33m\u001b[0m\u001b[0m\n\u001b[0m\u001b[0;32m    810\u001b[0m         \u001b[1;32mexcept\u001b[0m \u001b[0mBaseException\u001b[0m \u001b[1;32mas\u001b[0m \u001b[0merror\u001b[0m\u001b[1;33m:\u001b[0m\u001b[1;33m\u001b[0m\u001b[1;33m\u001b[0m\u001b[0m\n",
      "\u001b[1;31mKeyboardInterrupt\u001b[0m: ",
      "\nDuring handling of the above exception, another exception occurred:\n",
      "\u001b[1;31mSystemExit\u001b[0m                                Traceback (most recent call last)",
      "    \u001b[1;31m[... skipping hidden 1 frame]\u001b[0m\n",
      "\u001b[1;32m<ipython-input-28-a86ea18a4a5b>\u001b[0m in \u001b[0;36m<module>\u001b[1;34m\u001b[0m\n\u001b[0;32m     23\u001b[0m \u001b[1;32mexcept\u001b[0m \u001b[0mKeyboardInterrupt\u001b[0m\u001b[1;33m:\u001b[0m\u001b[1;33m\u001b[0m\u001b[1;33m\u001b[0m\u001b[0m\n\u001b[1;32m---> 24\u001b[1;33m     \u001b[0msys\u001b[0m\u001b[1;33m.\u001b[0m\u001b[0mexit\u001b[0m\u001b[1;33m(\u001b[0m\u001b[1;33m)\u001b[0m\u001b[1;33m\u001b[0m\u001b[1;33m\u001b[0m\u001b[0m\n\u001b[0m",
      "\u001b[1;31mSystemExit\u001b[0m: ",
      "\nDuring handling of the above exception, another exception occurred:\n",
      "\u001b[1;31mTypeError\u001b[0m                                 Traceback (most recent call last)",
      "    \u001b[1;31m[... skipping hidden 1 frame]\u001b[0m\n",
      "\u001b[1;32mC:\\ProgramData\\Anaconda3\\lib\\site-packages\\IPython\\core\\interactiveshell.py\u001b[0m in \u001b[0;36mshowtraceback\u001b[1;34m(self, exc_tuple, filename, tb_offset, exception_only, running_compiled_code)\u001b[0m\n\u001b[0;32m   2052\u001b[0m                     stb = ['An exception has occurred, use %tb to see '\n\u001b[0;32m   2053\u001b[0m                            'the full traceback.\\n']\n\u001b[1;32m-> 2054\u001b[1;33m                     stb.extend(self.InteractiveTB.get_exception_only(etype,\n\u001b[0m\u001b[0;32m   2055\u001b[0m                                                                      value))\n\u001b[0;32m   2056\u001b[0m                 \u001b[1;32melse\u001b[0m\u001b[1;33m:\u001b[0m\u001b[1;33m\u001b[0m\u001b[1;33m\u001b[0m\u001b[0m\n",
      "\u001b[1;32mC:\\ProgramData\\Anaconda3\\lib\\site-packages\\IPython\\core\\ultratb.py\u001b[0m in \u001b[0;36mget_exception_only\u001b[1;34m(self, etype, value)\u001b[0m\n\u001b[0;32m    752\u001b[0m         \u001b[0mvalue\u001b[0m \u001b[1;33m:\u001b[0m \u001b[0mexception\u001b[0m \u001b[0mvalue\u001b[0m\u001b[1;33m\u001b[0m\u001b[1;33m\u001b[0m\u001b[0m\n\u001b[0;32m    753\u001b[0m         \"\"\"\n\u001b[1;32m--> 754\u001b[1;33m         \u001b[1;32mreturn\u001b[0m \u001b[0mListTB\u001b[0m\u001b[1;33m.\u001b[0m\u001b[0mstructured_traceback\u001b[0m\u001b[1;33m(\u001b[0m\u001b[0mself\u001b[0m\u001b[1;33m,\u001b[0m \u001b[0metype\u001b[0m\u001b[1;33m,\u001b[0m \u001b[0mvalue\u001b[0m\u001b[1;33m)\u001b[0m\u001b[1;33m\u001b[0m\u001b[1;33m\u001b[0m\u001b[0m\n\u001b[0m\u001b[0;32m    755\u001b[0m \u001b[1;33m\u001b[0m\u001b[0m\n\u001b[0;32m    756\u001b[0m     \u001b[1;32mdef\u001b[0m \u001b[0mshow_exception_only\u001b[0m\u001b[1;33m(\u001b[0m\u001b[0mself\u001b[0m\u001b[1;33m,\u001b[0m \u001b[0metype\u001b[0m\u001b[1;33m,\u001b[0m \u001b[0mevalue\u001b[0m\u001b[1;33m)\u001b[0m\u001b[1;33m:\u001b[0m\u001b[1;33m\u001b[0m\u001b[1;33m\u001b[0m\u001b[0m\n",
      "\u001b[1;32mC:\\ProgramData\\Anaconda3\\lib\\site-packages\\IPython\\core\\ultratb.py\u001b[0m in \u001b[0;36mstructured_traceback\u001b[1;34m(self, etype, evalue, etb, tb_offset, context)\u001b[0m\n\u001b[0;32m    627\u001b[0m             \u001b[0mchained_exceptions_tb_offset\u001b[0m \u001b[1;33m=\u001b[0m \u001b[1;36m0\u001b[0m\u001b[1;33m\u001b[0m\u001b[1;33m\u001b[0m\u001b[0m\n\u001b[0;32m    628\u001b[0m             out_list = (\n\u001b[1;32m--> 629\u001b[1;33m                 self.structured_traceback(\n\u001b[0m\u001b[0;32m    630\u001b[0m                     \u001b[0metype\u001b[0m\u001b[1;33m,\u001b[0m \u001b[0mevalue\u001b[0m\u001b[1;33m,\u001b[0m \u001b[1;33m(\u001b[0m\u001b[0metb\u001b[0m\u001b[1;33m,\u001b[0m \u001b[0mchained_exc_ids\u001b[0m\u001b[1;33m)\u001b[0m\u001b[1;33m,\u001b[0m\u001b[1;33m\u001b[0m\u001b[1;33m\u001b[0m\u001b[0m\n\u001b[0;32m    631\u001b[0m                     chained_exceptions_tb_offset, context)\n",
      "\u001b[1;32mC:\\ProgramData\\Anaconda3\\lib\\site-packages\\IPython\\core\\ultratb.py\u001b[0m in \u001b[0;36mstructured_traceback\u001b[1;34m(self, etype, value, tb, tb_offset, number_of_lines_of_context)\u001b[0m\n\u001b[0;32m   1365\u001b[0m         \u001b[1;32melse\u001b[0m\u001b[1;33m:\u001b[0m\u001b[1;33m\u001b[0m\u001b[1;33m\u001b[0m\u001b[0m\n\u001b[0;32m   1366\u001b[0m             \u001b[0mself\u001b[0m\u001b[1;33m.\u001b[0m\u001b[0mtb\u001b[0m \u001b[1;33m=\u001b[0m \u001b[0mtb\u001b[0m\u001b[1;33m\u001b[0m\u001b[1;33m\u001b[0m\u001b[0m\n\u001b[1;32m-> 1367\u001b[1;33m         return FormattedTB.structured_traceback(\n\u001b[0m\u001b[0;32m   1368\u001b[0m             self, etype, value, tb, tb_offset, number_of_lines_of_context)\n\u001b[0;32m   1369\u001b[0m \u001b[1;33m\u001b[0m\u001b[0m\n",
      "\u001b[1;32mC:\\ProgramData\\Anaconda3\\lib\\site-packages\\IPython\\core\\ultratb.py\u001b[0m in \u001b[0;36mstructured_traceback\u001b[1;34m(self, etype, value, tb, tb_offset, number_of_lines_of_context)\u001b[0m\n\u001b[0;32m   1265\u001b[0m         \u001b[1;32mif\u001b[0m \u001b[0mmode\u001b[0m \u001b[1;32min\u001b[0m \u001b[0mself\u001b[0m\u001b[1;33m.\u001b[0m\u001b[0mverbose_modes\u001b[0m\u001b[1;33m:\u001b[0m\u001b[1;33m\u001b[0m\u001b[1;33m\u001b[0m\u001b[0m\n\u001b[0;32m   1266\u001b[0m             \u001b[1;31m# Verbose modes need a full traceback\u001b[0m\u001b[1;33m\u001b[0m\u001b[1;33m\u001b[0m\u001b[1;33m\u001b[0m\u001b[0m\n\u001b[1;32m-> 1267\u001b[1;33m             return VerboseTB.structured_traceback(\n\u001b[0m\u001b[0;32m   1268\u001b[0m                 \u001b[0mself\u001b[0m\u001b[1;33m,\u001b[0m \u001b[0metype\u001b[0m\u001b[1;33m,\u001b[0m \u001b[0mvalue\u001b[0m\u001b[1;33m,\u001b[0m \u001b[0mtb\u001b[0m\u001b[1;33m,\u001b[0m \u001b[0mtb_offset\u001b[0m\u001b[1;33m,\u001b[0m \u001b[0mnumber_of_lines_of_context\u001b[0m\u001b[1;33m\u001b[0m\u001b[1;33m\u001b[0m\u001b[0m\n\u001b[0;32m   1269\u001b[0m             )\n",
      "\u001b[1;32mC:\\ProgramData\\Anaconda3\\lib\\site-packages\\IPython\\core\\ultratb.py\u001b[0m in \u001b[0;36mstructured_traceback\u001b[1;34m(self, etype, evalue, etb, tb_offset, number_of_lines_of_context)\u001b[0m\n\u001b[0;32m   1122\u001b[0m         \u001b[1;34m\"\"\"Return a nice text document describing the traceback.\"\"\"\u001b[0m\u001b[1;33m\u001b[0m\u001b[1;33m\u001b[0m\u001b[0m\n\u001b[0;32m   1123\u001b[0m \u001b[1;33m\u001b[0m\u001b[0m\n\u001b[1;32m-> 1124\u001b[1;33m         formatted_exception = self.format_exception_as_a_whole(etype, evalue, etb, number_of_lines_of_context,\n\u001b[0m\u001b[0;32m   1125\u001b[0m                                                                tb_offset)\n\u001b[0;32m   1126\u001b[0m \u001b[1;33m\u001b[0m\u001b[0m\n",
      "\u001b[1;32mC:\\ProgramData\\Anaconda3\\lib\\site-packages\\IPython\\core\\ultratb.py\u001b[0m in \u001b[0;36mformat_exception_as_a_whole\u001b[1;34m(self, etype, evalue, etb, number_of_lines_of_context, tb_offset)\u001b[0m\n\u001b[0;32m   1080\u001b[0m \u001b[1;33m\u001b[0m\u001b[0m\n\u001b[0;32m   1081\u001b[0m \u001b[1;33m\u001b[0m\u001b[0m\n\u001b[1;32m-> 1082\u001b[1;33m         \u001b[0mlast_unique\u001b[0m\u001b[1;33m,\u001b[0m \u001b[0mrecursion_repeat\u001b[0m \u001b[1;33m=\u001b[0m \u001b[0mfind_recursion\u001b[0m\u001b[1;33m(\u001b[0m\u001b[0morig_etype\u001b[0m\u001b[1;33m,\u001b[0m \u001b[0mevalue\u001b[0m\u001b[1;33m,\u001b[0m \u001b[0mrecords\u001b[0m\u001b[1;33m)\u001b[0m\u001b[1;33m\u001b[0m\u001b[1;33m\u001b[0m\u001b[0m\n\u001b[0m\u001b[0;32m   1083\u001b[0m \u001b[1;33m\u001b[0m\u001b[0m\n\u001b[0;32m   1084\u001b[0m         \u001b[0mframes\u001b[0m \u001b[1;33m=\u001b[0m \u001b[0mself\u001b[0m\u001b[1;33m.\u001b[0m\u001b[0mformat_records\u001b[0m\u001b[1;33m(\u001b[0m\u001b[0mrecords\u001b[0m\u001b[1;33m,\u001b[0m \u001b[0mlast_unique\u001b[0m\u001b[1;33m,\u001b[0m \u001b[0mrecursion_repeat\u001b[0m\u001b[1;33m)\u001b[0m\u001b[1;33m\u001b[0m\u001b[1;33m\u001b[0m\u001b[0m\n",
      "\u001b[1;32mC:\\ProgramData\\Anaconda3\\lib\\site-packages\\IPython\\core\\ultratb.py\u001b[0m in \u001b[0;36mfind_recursion\u001b[1;34m(etype, value, records)\u001b[0m\n\u001b[0;32m    380\u001b[0m     \u001b[1;31m# first frame (from in to out) that looks different.\u001b[0m\u001b[1;33m\u001b[0m\u001b[1;33m\u001b[0m\u001b[1;33m\u001b[0m\u001b[0m\n\u001b[0;32m    381\u001b[0m     \u001b[1;32mif\u001b[0m \u001b[1;32mnot\u001b[0m \u001b[0mis_recursion_error\u001b[0m\u001b[1;33m(\u001b[0m\u001b[0metype\u001b[0m\u001b[1;33m,\u001b[0m \u001b[0mvalue\u001b[0m\u001b[1;33m,\u001b[0m \u001b[0mrecords\u001b[0m\u001b[1;33m)\u001b[0m\u001b[1;33m:\u001b[0m\u001b[1;33m\u001b[0m\u001b[1;33m\u001b[0m\u001b[0m\n\u001b[1;32m--> 382\u001b[1;33m         \u001b[1;32mreturn\u001b[0m \u001b[0mlen\u001b[0m\u001b[1;33m(\u001b[0m\u001b[0mrecords\u001b[0m\u001b[1;33m)\u001b[0m\u001b[1;33m,\u001b[0m \u001b[1;36m0\u001b[0m\u001b[1;33m\u001b[0m\u001b[1;33m\u001b[0m\u001b[0m\n\u001b[0m\u001b[0;32m    383\u001b[0m \u001b[1;33m\u001b[0m\u001b[0m\n\u001b[0;32m    384\u001b[0m     \u001b[1;31m# Select filename, lineno, func_name to track frames with\u001b[0m\u001b[1;33m\u001b[0m\u001b[1;33m\u001b[0m\u001b[1;33m\u001b[0m\u001b[0m\n",
      "\u001b[1;31mTypeError\u001b[0m: object of type 'NoneType' has no len()"
     ]
    }
   ],
   "source": [
    "from kafka import KafkaConsumer\n",
    "import sys\n",
    "\n",
    "### Setting up the Python consumer\n",
    "bootstrap_servers = ['18.211.252.152:9092']\n",
    "topicName = 'transactions-topic-verified'\n",
    "consumer = KafkaConsumer (topicName, group_id = 'my_group_id7',bootstrap_servers = bootstrap_servers,\n",
    "auto_offset_reset = 'earliest')   ## You can also set it as latest\n",
    "i=0\n",
    "### Reading the message from consumer\n",
    "try:\n",
    "    for message in consumer:\n",
    "        #i=i+1\n",
    "        #print (\"%s:%d:%d: key=%s value=%s\" % (message.topic, message.partition,message.offset, message.key,message.value))\n",
    "        #print (\"%s\" % (message.value))\n",
    "        kafkajsonObj = json.loads(message.value)\n",
    "        status = validateFraud(kafkajsonObj[\"amount\"], kafkajsonObj[\"card_id\"],kafkajsonObj[\"postcode\"], kafkajsonObj[\"transaction_dt\"])\n",
    "        #status = validateFraud1(kafkajsonObj)\n",
    "        if (status == False):\n",
    "            i=i+1\n",
    "            print(\"is false? Final status is %d : %s \", i, status)\n",
    "        \n",
    "except KeyboardInterrupt:\n",
    "    sys.exit()"
   ]
  },
  {
   "cell_type": "code",
   "execution_count": 8,
   "metadata": {},
   "outputs": [
    {
     "name": "stdout",
     "output_type": "stream",
     "text": [
      "into validateFraud function - part1\n",
      "into verify_ucl_data function\n",
      "card id from kafka is  348702330256514\n",
      "amount from kafka is  4380912\n",
      "lookupvalue is  <pymongo.cursor.Cursor object at 0x00000205D9B98100>\n",
      "lookupvalue type is  <class 'pymongo.cursor.Cursor'>\n",
      "dataucl is  12794239.889645452\n",
      "credit score is  225\n",
      "Status of UCL and CreditScore is  True\n",
      "lookupValue {'_id': ObjectId('6379a2b6dbd25642124fcf1c'), '': 2, 'card_id': 378303738095292, 'member_id': 1314074991813, 'postcode': 41778, 'transaction_dt2': '2018-06-01 14:31:05', 'ucl': 12794239.889645452, 'score': 225}\n",
      "last_postcode 41778\n",
      "last_transaction_dt 2018-06-01 14:31:05\n",
      "printing value from class  16658    19.9529\n",
      "Name: B, dtype: float64\n",
      "current_lat data is >>>>>>>>>>>>>>>>>>>> 19.9529\n",
      "current_lon data is >>>>>>>>>>>>>>>>>>>> -155.3341\n",
      "printing value from class  7838    37.267\n",
      "Name: B, dtype: float64\n",
      "previous_lat data is >>>>>>>>>>>>>>>>>>>> 37.267\n",
      "previous_lon data is >>>>>>>>>>>>>>>>>>>> -83.2991\n",
      "***************************************************************\n",
      "1. current_lat 19.9529\n",
      "2. current_lon -155.3341\n",
      "3. previous_lat 37.267\n",
      "4. previous_lon -83.2991\n",
      "***************************************************************\n",
      "transaction_dt1>>>>>>>>>>> 01-03-2018 08:24:29\n",
      "transaction_dt2>>>>>>>>>>> 2018-06-01 14:31:05\n",
      "speed is **************************************************** -0.0008936730159711448\n",
      "3 Rules check passed!!!!!! ; congratulations! \n",
      "Genuine\n"
     ]
    }
   ],
   "source": [
    "#Tester Program\n",
    "status = validateFraud(4380912, 348702330256514,96774, \"01-03-2018 08:24:29\")\n",
    "if (status == True):\n",
    "    print(\"Genuine\")\n",
    "else:\n",
    "    print(\"Fraud\")"
   ]
  }
 ],
 "metadata": {
  "kernelspec": {
   "display_name": "Python 3",
   "language": "python",
   "name": "python3"
  },
  "language_info": {
   "codemirror_mode": {
    "name": "ipython",
    "version": 3
   },
   "file_extension": ".py",
   "mimetype": "text/x-python",
   "name": "python",
   "nbconvert_exporter": "python",
   "pygments_lexer": "ipython3",
   "version": "3.8.8"
  }
 },
 "nbformat": 4,
 "nbformat_minor": 4
}
