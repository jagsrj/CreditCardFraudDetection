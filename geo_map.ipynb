{
 "cells": [
  {
   "cell_type": "code",
   "execution_count": 1,
   "id": "e2e948d9",
   "metadata": {},
   "outputs": [],
   "source": [
    "import math\n",
    "import pandas as pd"
   ]
  },
  {
   "cell_type": "code",
   "execution_count": 2,
   "id": "0b65a475",
   "metadata": {},
   "outputs": [],
   "source": [
    "class GEO_Map():\n",
    "\t\"\"\"\n",
    "\tIt hold the  map for zip code and its latitute and longitute\n",
    "\t\"\"\"\n",
    "\t__instance = None\n",
    "\n",
    "\t@staticmethod\n",
    "\tdef get_instance():\n",
    "\t\t\"\"\" Static access method. \"\"\"\n",
    "\t\tif GEO_Map.__instance == None:\n",
    "\t\t\tGEO_Map()\n",
    "\t\treturn GEO_Map.__instance\n",
    "\n",
    "\tdef __init__(self):\n",
    "\t\t\"\"\" Virtually private constructor. \"\"\"\n",
    "\t\tif GEO_Map.__instance != None:\n",
    "\t\t\traise Exception(\"This class is a singleton!\")\n",
    "\t\telse:\n",
    "\t\t\tGEO_Map.__instance = self\n",
    "\t\t\tself.map = pd.read_csv(\"uszipsv.csv\", header=None, names=['A',\"B\",'C','D','E'])\n",
    "\t\t\tself.map['A'] =  self.map['A'].astype(str)\n",
    "\n",
    "\tdef get_lat(self, pos_id):\n",
    "\t\treturn self.map[self.map.A == pos_id ].B\n",
    "\n",
    "\tdef get_long(self, pos_id):\n",
    "\t\treturn self.map[self.map.A == pos_id ].C\n",
    "\n",
    "\tdef distance(self, lat1, long1, lat2, long2):\n",
    "\t\ttheta = long1 - long2\n",
    "\t\tdist = math.sin(self.deg2rad(lat1)) * math.sin(self.deg2rad(lat2)) + math.cos(self.deg2rad(lat1)) * math.cos(self.deg2rad(lat2)) * math.cos(self.deg2rad(theta))\n",
    "\t\tdist = math.acos(dist)\n",
    "\t\tdist = self.rad2deg(dist)\n",
    "\t\tdist = dist * 60 * 1.1515 * 1.609344\n",
    "\t\treturn dist\n",
    "\n",
    "\tdef rad2deg(self, rad):\n",
    "\t\treturn rad * 180.0 / math.pi\n",
    "\n",
    "\tdef deg2rad(self, deg):\n",
    "\t\treturn deg * math.pi / 180.0"
   ]
  }
 ],
 "metadata": {
  "kernelspec": {
   "display_name": "Python 3",
   "language": "python",
   "name": "python3"
  },
  "language_info": {
   "codemirror_mode": {
    "name": "ipython",
    "version": 3
   },
   "file_extension": ".py",
   "mimetype": "text/x-python",
   "name": "python",
   "nbconvert_exporter": "python",
   "pygments_lexer": "ipython3",
   "version": "3.8.8"
  }
 },
 "nbformat": 4,
 "nbformat_minor": 5
}
